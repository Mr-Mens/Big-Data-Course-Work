{
  "cells": [
    {
      "cell_type": "markdown",
      "metadata": {
        "id": "Lx9-Fre4FMda"
      },
      "source": [
        "# **Machine Learning on Big Data (CN7030) CRWK 23-24 Term B [60% weighting]**\n",
        "# **Group ID: [Your Group ID]**\n",
        "1.   Student 1: Philip Acquaye-Mensah 2640756\n",
        "2.   Student 2: Mohamed Jareer MOHAMED  ZEENAM 2596353\n",
        "\n",
        "---\n",
        "\n",
        "If you want to add comments on your group work, please write it here for us:"
      ]
    },
    {
      "cell_type": "markdown",
      "metadata": {
        "id": "GdMZR-9QTwG3"
      },
      "source": [
        "\n",
        "# **Initiate and Configure Spark**"
      ]
    },
    {
      "cell_type": "code",
      "execution_count": null,
      "metadata": {
        "id": "_z0p88Xtw_3-"
      },
      "outputs": [],
      "source": [
        "# add your code here\n"
      ]
    },
    {
      "cell_type": "markdown",
      "metadata": {
        "id": "wHft1Jht1Qxl"
      },
      "source": [
        "---\n",
        "# **Task 1 - Data Loading and Preprocessing (15 marks)**\n",
        "---"
      ]
    },
    {
      "cell_type": "code",
      "execution_count": null,
      "metadata": {
        "id": "OcZfiIcq1Qxn"
      },
      "outputs": [],
      "source": [
        "#Identify the student who made a contribution and mention their name in the appropriate section of the code.\n",
        "\n",
        "## The students' names who made contributions\n",
        "\n",
        "# add the code here\n",
        "\n"
      ]
    },
    {
      "cell_type": "markdown",
      "metadata": {
        "id": "IRGHM3rOsKvU"
      },
      "source": [
        "---\n",
        "# **Task 2 - Model Selection and Implementation (25 marks)**\n",
        "---\n"
      ]
    },
    {
      "cell_type": "code",
      "execution_count": null,
      "metadata": {
        "id": "6oAJuyTBsRO-"
      },
      "outputs": [],
      "source": [
        "##1st student name: Philip Acquaye-Mensah\n",
        "# add the code here\n"
      ]
    },
    {
      "cell_type": "code",
      "execution_count": null,
      "metadata": {
        "id": "dNZlDHsuHbPH"
      },
      "outputs": [],
      "source": [
        "##2nd student name: Mohamed Jareer MOHAMED  ZEENAM\n",
        "# add the code here\n"
      ]
    },
    {
      "cell_type": "markdown",
      "metadata": {
        "id": "jBh-tqvEHmIa"
      },
      "source": [
        "---\n",
        "# **Task 3 - Model Parameter Tuning (20 marks)**\n",
        "---\n"
      ]
    },
    {
      "cell_type": "code",
      "execution_count": null,
      "metadata": {
        "id": "mhLRVi66Hmdo"
      },
      "outputs": [],
      "source": [
        "##1st student name: Philip Acquaye-Mensah\n",
        "# add the code here\n"
      ]
    },
    {
      "cell_type": "code",
      "execution_count": null,
      "metadata": {
        "id": "hzZ20UCMHtnf"
      },
      "outputs": [],
      "source": [
        "##2nd student name:Mohamed Jareer MOHAMED  ZEENAM\n",
        "# add the code here\n"
      ]
    },
    {
      "cell_type": "markdown",
      "metadata": {
        "id": "Np9gJPEIHwbG"
      },
      "source": [
        "---\n",
        "# **Task 4 - Model Evaluation and Accuracy Calculation (20 marks)**\n",
        "---"
      ]
    },
    {
      "cell_type": "code",
      "execution_count": null,
      "metadata": {
        "id": "FCVAx1VsHws-"
      },
      "outputs": [],
      "source": [
        "##1st student name: Philip Acquaye-Mensah\n",
        "# add the code here\n"
      ]
    },
    {
      "cell_type": "code",
      "execution_count": null,
      "metadata": {
        "id": "HLkmLxTdH8F7"
      },
      "outputs": [],
      "source": [
        "##2nd student name: Mohamed Jareer MOHAMED  ZEENAM\n",
        "# add the code here\n"
      ]
    },
    {
      "cell_type": "markdown",
      "metadata": {
        "id": "dsERZv2WIB1H"
      },
      "source": [
        "---\n",
        "# **Task 5 - Results Visualization or Printing (5 marks)**\n",
        "---"
      ]
    },
    {
      "cell_type": "code",
      "execution_count": null,
      "metadata": {
        "id": "j04CcL30ILx_"
      },
      "outputs": [],
      "source": [
        "##1st student name: Philip Acquaye-Mensah\n",
        "# add the code here\n"
      ]
    },
    {
      "cell_type": "code",
      "execution_count": null,
      "metadata": {
        "id": "hQDC_KW3IMFQ"
      },
      "outputs": [],
      "source": [
        "##2nd student name: Mohamed Jareer MOHAMED  ZEENAM\n",
        "# add the code here\n"
      ]
    },
    {
      "cell_type": "markdown",
      "metadata": {
        "id": "rIGDXqDdIQ4U"
      },
      "source": [
        "---\n",
        "# **Task 6 - LSEP Considerations (5 marks)**\n",
        "---"
      ]
    },
    {
      "cell_type": "markdown",
      "metadata": {
        "id": "vuCxxQnYI_FP"
      },
      "source": [
        "# Student 1: **Type the chosen issue**\n",
        "\n",
        "add contribution here ..."
      ]
    },
    {
      "cell_type": "markdown",
      "metadata": {
        "id": "AgLfrAGfJQxF"
      },
      "source": [
        "# Student 2: **Type the chosen issue**\n",
        "\n",
        "add contribution here ..."
      ]
    },
    {
      "cell_type": "markdown",
      "metadata": {
        "id": "mIM6uLApSxi2"
      },
      "source": [
        "---\n",
        "\n",
        "# **Task 7 - Convert ipynb to HTML for Turnitin submission [5 marks]**\n",
        "\n",
        "---\n",
        "\n"
      ]
    },
    {
      "cell_type": "code",
      "execution_count": null,
      "metadata": {
        "id": "ZrQu11N_DCfZ"
      },
      "outputs": [],
      "source": [
        "# install nbconvert (if facing the conversion error)\n",
        "!pip3 install nbconvert"
      ]
    },
    {
      "cell_type": "code",
      "execution_count": null,
      "metadata": {
        "id": "ReZWnCYdDH66"
      },
      "outputs": [],
      "source": [
        "# convert ipynb to html and submit this HTML file\n",
        "!jupyter nbconvert --to html Your_Group_ID_CRWK_CN7030.ipynb"
      ]
    }
  ],
  "metadata": {
    "colab": {
      "provenance": []
    },
    "kernelspec": {
      "display_name": "Python 3",
      "name": "python3"
    }
  },
  "nbformat": 4,
  "nbformat_minor": 0
}
