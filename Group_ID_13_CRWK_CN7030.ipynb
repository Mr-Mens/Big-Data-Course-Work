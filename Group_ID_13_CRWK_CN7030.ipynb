{
  "cells": [
    {
      "cell_type": "markdown",
      "metadata": {
        "id": "Lx9-Fre4FMda"
      },
      "source": [
        "# **Machine Learning on Big Data (CN7030) CRWK 23-24 Term B [60% weighting]**\n",
        "# **Group ID: [Your Group ID]**\n",
        "1.   Student 1: Philip Acquaye-Mensah 2640756\n",
        "2.   Student 2: Mohamed Jareer MOHAMED  ZEENAM 2596353\n",
        "\n",
        "---\n",
        "\n",
        "If you want to add comments on your group work, please write it here for us:"
      ]
    },
    {
      "cell_type": "markdown",
      "metadata": {
        "id": "GdMZR-9QTwG3"
      },
      "source": [
        "\n",
        "# **Initiate and Configure Spark**"
      ]
    },
    {
      "cell_type": "code",
      "execution_count": 86,
      "metadata": {
        "id": "_z0p88Xtw_3-"
      },
      "outputs": [],
      "source": [
        "from pyspark.sql import SparkSession\n",
        "from pyspark.ml.feature import StringIndexer, VectorAssembler, StandardScaler, MinMaxScaler, RobustScaler, Imputer\n",
        "from pyspark.ml.classification import LogisticRegression, NaiveBayes\n",
        "from pyspark.ml.evaluation import MulticlassClassificationEvaluator\n",
        "from pyspark.ml.regression import LinearRegression\n",
        "\n",
        "\n",
        "# Initialize SparkSession\n",
        "spark = SparkSession.builder \\\n",
        "                    .appName(\"Group 13 CRWK\") \\\n",
        "                    .master(\"local[*]\") \\\n",
        "                    .config(\"spark.executor.memory\", \"4g\") \\\n",
        "                    .config(\"spark.driver.memory\", \"2g\") \\\n",
        "                    .config(\"spark.executor.cores\", \"2\") \\\n",
        "                    .config(\"spark.sql.inMemoryColumnarStorage.compressed\", \"true\") \\\n",
        "                    .getOrCreate()\n",
        "\n"
      ]
    },
    {
      "cell_type": "markdown",
      "metadata": {
        "id": "wHft1Jht1Qxl"
      },
      "source": [
        "---\n",
        "# **Task 1 - Data Loading and Preprocessing (15 marks)**\n",
        "---"
      ]
    },
    {
      "cell_type": "code",
      "execution_count": 87,
      "metadata": {
        "id": "OcZfiIcq1Qxn"
      },
      "outputs": [
        {
          "name": "stdout",
          "output_type": "stream",
          "text": [
            "+--------+--------+-------------------+-------------+------------+------------+---------------+---------------+---------------+---------------+----------------+---------------+---------------+---------------+----------------+---------------+-----------+-----------+-------------+------------+------------+------------+-----------+------------+-----------+-----------+-----------+-----------+------------+-----------+-----------+-----------+-------------+-------------+-------------+-------------+--------------+--------------+-----------+-----------+-----------+-----------+------------+-----------+-----------+------------+------------+------------+------------+------------+------------+--------------+------------+-------------+------------+----------------+----------------+--------------+--------------+----------------+--------------+--------------+----------------+----------------+----------------+----------------+----------------+-----------------+-----------------+-----------------+----------------+-----------+----------+----------+----------+----------+-----------+--------+--------+------+\n",
            "|Dst Port|Protocol|Timestamp          |Flow Duration|Tot Fwd Pkts|Tot Bwd Pkts|TotLen Fwd Pkts|TotLen Bwd Pkts|Fwd Pkt Len Max|Fwd Pkt Len Min|Fwd Pkt Len Mean|Fwd Pkt Len Std|Bwd Pkt Len Max|Bwd Pkt Len Min|Bwd Pkt Len Mean|Bwd Pkt Len Std|Flow Byts/s|Flow Pkts/s|Flow IAT Mean|Flow IAT Std|Flow IAT Max|Flow IAT Min|Fwd IAT Tot|Fwd IAT Mean|Fwd IAT Std|Fwd IAT Max|Fwd IAT Min|Bwd IAT Tot|Bwd IAT Mean|Bwd IAT Std|Bwd IAT Max|Bwd IAT Min|Fwd PSH Flags|Bwd PSH Flags|Fwd URG Flags|Bwd URG Flags|Fwd Header Len|Bwd Header Len|Fwd Pkts/s |Bwd Pkts/s |Pkt Len Min|Pkt Len Max|Pkt Len Mean|Pkt Len Std|Pkt Len Var|FIN Flag Cnt|SYN Flag Cnt|RST Flag Cnt|PSH Flag Cnt|ACK Flag Cnt|URG Flag Cnt|CWE Flag Count|ECE Flag Cnt|Down/Up Ratio|Pkt Size Avg|Fwd Seg Size Avg|Bwd Seg Size Avg|Fwd Byts/b Avg|Fwd Pkts/b Avg|Fwd Blk Rate Avg|Bwd Byts/b Avg|Bwd Pkts/b Avg|Bwd Blk Rate Avg|Subflow Fwd Pkts|Subflow Fwd Byts|Subflow Bwd Pkts|Subflow Bwd Byts|Init Fwd Win Byts|Init Bwd Win Byts|Fwd Act Data Pkts|Fwd Seg Size Min|Active Mean|Active Std|Active Max|Active Min|Idle Mean |Idle Std   |Idle Max|Idle Min|Label |\n",
            "+--------+--------+-------------------+-------------+------------+------------+---------------+---------------+---------------+---------------+----------------+---------------+---------------+---------------+----------------+---------------+-----------+-----------+-------------+------------+------------+------------+-----------+------------+-----------+-----------+-----------+-----------+------------+-----------+-----------+-----------+-------------+-------------+-------------+-------------+--------------+--------------+-----------+-----------+-----------+-----------+------------+-----------+-----------+------------+------------+------------+------------+------------+------------+--------------+------------+-------------+------------+----------------+----------------+--------------+--------------+----------------+--------------+--------------+----------------+----------------+----------------+----------------+----------------+-----------------+-----------------+-----------------+----------------+-----------+----------+----------+----------+----------+-----------+--------+--------+------+\n",
            "|0       |0       |14/02/2018 08:31:01|112641719    |3           |0           |0              |0              |0              |0              |0               |0              |0              |0              |0               |0              |0          |0.026633116|56320859.5   |139.3000359 |56320958    |56320761    |112641719  |56320859.5  |139.3000359|56320958   |56320761   |0          |0           |0          |0          |0          |0            |0            |0            |0            |0             |0             |0.026633116|0          |0          |0          |0           |0          |0          |0           |0           |0           |0           |0           |0           |0             |0           |0            |0           |0               |0               |0             |0             |0               |0             |0             |0               |3               |0               |0               |0               |-1               |-1               |0                |0               |0          |0         |0         |0         |56320859.5|139.3000359|56320958|56320761|Benign|\n",
            "|0       |0       |14/02/2018 08:33:50|112641466    |3           |0           |0              |0              |0              |0              |0               |0              |0              |0              |0               |0              |0          |0.026633176|56320733     |114.5512986 |56320814    |56320652    |112641466  |56320733    |114.5512986|56320814   |56320652   |0          |0           |0          |0          |0          |0            |0            |0            |0            |0             |0             |0.026633176|0          |0          |0          |0           |0          |0          |0           |0           |0           |0           |0           |0           |0             |0           |0            |0           |0               |0               |0             |0             |0               |0             |0             |0               |3               |0               |0               |0               |-1               |-1               |0                |0               |0          |0         |0         |0         |56320733  |114.5512986|56320814|56320652|Benign|\n",
            "|0       |0       |14/02/2018 08:36:39|112638623    |3           |0           |0              |0              |0              |0              |0               |0              |0              |0              |0               |0              |0          |0.026633848|56319311.5   |301.9345956 |56319525    |56319098    |112638623  |56319311.5  |301.9345956|56319525   |56319098   |0          |0           |0          |0          |0          |0            |0            |0            |0            |0             |0             |0.026633848|0          |0          |0          |0           |0          |0          |0           |0           |0           |0           |0           |0           |0             |0           |0            |0           |0               |0               |0             |0             |0               |0             |0             |0               |3               |0               |0               |0               |-1               |-1               |0                |0               |0          |0         |0         |0         |56319311.5|301.9345956|56319525|56319098|Benign|\n",
            "|22      |6       |14/02/2018 08:40:13|6453966      |15          |10          |1239           |2273           |744            |0              |82.6            |196.7412369    |976            |0              |227.3           |371.6778922    |544.161528 |3.873587187|268915.25    |247443.779  |673900      |22          |6453966    |460997.5714 |123109.4236|673900     |229740     |5637902    |626433.5556 |455082.2142|1167293    |554        |0            |0            |0            |0            |488           |328           |2.324152312|1.549434875|0          |976        |135.0769231 |277.83476  |77192.15385|0           |0           |0           |1           |0           |0           |0             |0           |0            |140.48      |82.6            |227.3           |0             |0             |0               |0             |0             |0               |15              |1239            |10              |2273            |65535            |233              |6                |32              |0          |0         |0         |0         |0         |0          |0       |0       |Benign|\n",
            "|22      |6       |14/02/2018 08:40:23|8804066      |14          |11          |1143           |2209           |744            |0              |81.64285714     |203.7455454    |976            |0              |200.8181818     |362.2498635    |380.7331749|2.839597068|366836.0833  |511356.6097 |1928102     |21          |8804066    |677235.8462 |532416.971 |1928102    |246924     |7715481    |771548.1    |755543.0827|2174893    |90         |0            |0            |0            |0            |456           |360           |1.590174358|1.24942271 |0          |976        |128.9230769 |279.7630316|78267.35385|0           |0           |0           |1           |0           |0           |0             |0           |0            |134.08      |81.64285714     |200.8181818     |0             |0             |0               |0             |0             |0               |14              |1143            |11              |2209            |5808             |233              |6                |32              |0          |0         |0         |0         |0         |0          |0       |0       |Benign|\n",
            "|22      |6       |14/02/2018 08:40:31|6989341      |16          |12          |1239           |2273           |744            |0              |77.4375         |190.8311536    |976            |0              |189.4166667     |347.6425694    |502.4794183|4.006100146|258864.4815  |291724.1479 |951098      |20          |6989341    |465956.0667 |244363.8964|951098     |265831     |5980598    |543690.7273 |460713.5198|1254338    |78         |0            |0            |0            |0            |332           |252           |2.289200083|1.716900063|0          |976        |121.1034483 |265.7086676|70601.09606|0           |0           |0           |1           |0           |0           |0             |0           |0            |125.4285714 |77.4375         |189.4166667     |0             |0             |0               |0             |0             |0               |16              |1239            |12              |2273            |5808             |234              |7                |20              |0          |0         |0         |0         |0         |0          |0       |0       |Benign|\n",
            "|0       |0       |14/02/2018 08:39:28|112640480    |3           |0           |0              |0              |0              |0              |0               |0              |0              |0              |0               |0              |0          |0.026633409|56320240     |203.646753  |56320384    |56320096    |112640480  |56320240    |203.646753 |56320384   |56320096   |0          |0           |0          |0          |0          |0            |0            |0            |0            |0             |0             |0.026633409|0          |0          |0          |0           |0          |0          |0           |0           |0           |0           |0           |0           |0             |0           |0            |0           |0               |0               |0             |0             |0               |0             |0             |0               |3               |0               |0               |0               |-1               |-1               |0                |0               |0          |0         |0         |0         |56320240  |203.646753 |56320384|56320096|Benign|\n",
            "|0       |0       |14/02/2018 08:42:17|112641244    |3           |0           |0              |0              |0              |0              |0               |0              |0              |0              |0               |0              |0          |0.026633229|56320622     |62.22539674 |56320666    |56320578    |112641244  |56320622    |62.22539674|56320666   |56320578   |0          |0           |0          |0          |0          |0            |0            |0            |0            |0             |0             |0.026633229|0          |0          |0          |0           |0          |0          |0           |0           |0           |0           |0           |0           |0             |0           |0            |0           |0               |0               |0             |0             |0               |0             |0             |0               |3               |0               |0               |0               |-1               |-1               |0                |0               |0          |0         |0         |0         |56320622  |62.22539674|56320666|56320578|Benign|\n",
            "|80      |6       |14/02/2018 08:47:14|476513       |5           |3           |211            |463            |211            |0              |42.2            |94.36206865    |463            |0              |154.3333333     |267.3131746    |1414.441998|16.78862906|68073.28571  |115865.7927 |237711      |24          |476513     |119128.25   |137379.9634|238470     |108        |238634     |119317      |167621.0767|237843     |791        |0            |0            |0            |0            |168           |104           |10.49289316|6.295735898|0          |463        |74.88888889 |161.4058893|26051.86111|0           |0           |0           |1           |0           |0           |0             |0           |0            |84.25       |42.2            |154.3333333     |0             |0             |0               |0             |0             |0               |5               |211             |3               |463             |14600            |219              |1                |32              |0          |0         |0         |0         |0         |0          |0       |0       |Benign|\n",
            "|80      |6       |14/02/2018 08:47:15|475048       |5           |3           |220            |472            |220            |0              |44              |98.38699101    |472            |0              |157.3333333     |272.5093271    |1456.694902|16.8404035 |67864        |115746.9332 |237494      |15          |475048     |118762      |137096.7596|237853     |15         |237516     |118758      |167472.5843|237179     |337        |0            |0            |0            |0            |168           |104           |10.52525219|6.315151311|0          |472        |76.88888889 |165.0669898|27247.11111|0           |0           |0           |1           |0           |0           |0             |0           |0            |86.5        |44              |157.3333333     |0             |0             |0               |0             |0             |0               |5               |220             |3               |472             |14600            |219              |1                |32              |0          |0         |0         |0         |0         |0          |0       |0       |Benign|\n",
            "|80      |6       |14/02/2018 08:47:15|474926       |5           |3           |220            |472            |220            |0              |44              |98.38699101    |472            |0              |157.3333333     |272.5093271    |1457.069101|16.84472949|67846.57143  |115645.7408 |237162      |15          |474926     |118731.5    |136923.3658|237497     |15         |237732     |118866      |167663.5031|237422     |310        |0            |0            |0            |0            |168           |104           |10.52795593|6.316773561|0          |472        |76.88888889 |165.0669898|27247.11111|0           |0           |0           |1           |0           |0           |0             |0           |0            |86.5        |44              |157.3333333     |0             |0             |0               |0             |0             |0               |5               |220             |3               |472             |14480            |219              |1                |32              |0          |0         |0         |0         |0         |0          |0       |0       |Benign|\n",
            "|80      |6       |14/02/2018 08:47:16|477471       |5           |3           |209            |461            |209            |0              |41.8            |93.46764146    |461            |0              |153.6666667     |266.1584741    |1403.226583|16.75494428|68210.14286  |116178.2288 |238389      |17          |477471     |119367.75   |137516.5082|238515     |149        |238887     |119443.5    |168454.7556|238559     |328        |0            |0            |0            |0            |168           |104           |10.47184017|6.283104105|0          |461        |74.44444444 |160.5942956|25790.52778|0           |0           |0           |1           |0           |0           |0             |0           |0            |83.75       |41.8            |153.6666667     |0             |0             |0               |0             |0             |0               |5               |209             |3               |461             |14480            |219              |1                |32              |0          |0         |0         |0         |0         |0          |0       |0       |Benign|\n",
            "|80      |6       |14/02/2018 08:47:16|512758       |5           |3           |211            |463            |211            |0              |42.2            |94.36206865    |463            |0              |154.3333333     |267.3131746    |1314.460233|15.60190187|73251.14286  |124959.4737 |256188      |10          |512758     |128189.5    |148006.1061|256523     |10         |256563     |128281.5    |180935.1903|256222     |341        |0            |0            |0            |0            |168           |104           |9.75118867 |5.850713202|0          |463        |74.88888889 |161.4058893|26051.86111|0           |0           |0           |1           |0           |0           |0             |0           |0            |84.25       |42.2            |154.3333333     |0             |0             |0               |0             |0             |0               |5               |211             |3               |463             |14480            |219              |1                |32              |0          |0         |0         |0         |0         |0          |0       |0       |Benign|\n",
            "|80      |6       |14/02/2018 08:47:17|476711       |5           |3           |206            |458            |206            |0              |41.2            |92.12600067    |458            |0              |152.6666667     |264.4264233    |1392.877446|16.78165597|68101.57143  |115977.2151 |238034      |16          |476711     |119177.75   |137207.3656|238274     |78         |238033     |119016.5    |168007.8641|237816     |217        |0            |0            |0            |0            |168           |104           |10.48853498|6.293120989|0          |458        |73.77777778 |159.3783061|25401.44444|0           |0           |0           |1           |0           |0           |0             |0           |0            |83          |41.2            |152.6666667     |0             |0             |0               |0             |0             |0               |5               |206             |3               |458             |14480            |219              |1                |32              |0          |0         |0         |0         |0         |0          |0       |0       |Benign|\n",
            "|80      |6       |14/02/2018 08:47:17|476616       |5           |3           |211            |463            |211            |0              |42.2            |94.36206865    |463            |0              |154.3333333     |267.3131746    |1414.136328|16.78500092|68088        |115553.0733 |237285      |8           |476616     |119154      |136576.9729|237558     |8          |237660     |118830      |167563.0939|237315     |345        |0            |0            |0            |0            |168           |104           |10.49062558|6.294375346|0          |463        |74.88888889 |161.4058893|26051.86111|0           |0           |0           |1           |0           |0           |0             |0           |0            |84.25       |42.2            |154.3333333     |0             |0             |0               |0             |0             |0               |5               |211             |3               |463             |14480            |219              |1                |32              |0          |0         |0         |0         |0         |0          |0       |0       |Benign|\n",
            "|80      |6       |14/02/2018 08:47:18|477161       |5           |3           |211            |463            |211            |0              |42.2            |94.36206865    |463            |0              |154.3333333     |267.3131746    |1412.521141|16.76582956|68165.85714  |116324.5305 |238504      |12          |477161     |119290.25   |137729.5603|238719     |12         |238618     |119309      |168449.8058|238421     |197        |0            |0            |0            |0            |168           |104           |10.47864348|6.287186086|0          |463        |74.88888889 |161.4058893|26051.86111|0           |0           |0           |1           |0           |0           |0             |0           |0            |84.25       |42.2            |154.3333333     |0             |0             |0               |0             |0             |0               |5               |211             |3               |463             |14480            |219              |1                |32              |0          |0         |0         |0         |0         |0          |0       |0       |Benign|\n",
            "|80      |6       |14/02/2018 08:47:18|474670       |5           |3           |214            |466            |214            |0              |42.8            |95.70370944    |466            |0              |155.3333333     |269.0452254    |1432.574209|16.85381423|67810        |115371.2624 |236717      |15          |474670     |118667.5    |136423.2214|236894     |55         |236992     |118496      |167297.2218|236793     |199        |0            |0            |0            |0            |168           |104           |10.53363389|6.320180336|0          |466        |75.55555556 |162.624653 |26446.77778|0           |0           |0           |1           |0           |0           |0             |0           |0            |85          |42.8            |155.3333333     |0             |0             |0               |0             |0             |0               |5               |214             |3               |466             |14480            |219              |1                |32              |0          |0         |0         |0         |0         |0          |0       |0       |Benign|\n",
            "|80      |6       |14/02/2018 08:47:19|476608       |5           |3           |209            |461            |209            |0              |41.8            |93.46764146    |461            |0              |153.6666667     |266.1584741    |1405.767423|16.78528266|68086.85714  |116165.3577 |238154      |21          |476608     |119152      |137536.3999|238349     |28         |238442     |119221      |168305.5561|238231     |211        |0            |0            |0            |0            |168           |104           |10.49080167|6.294480999|0          |461        |74.44444444 |160.5942956|25790.52778|0           |0           |0           |1           |0           |0           |0             |0           |0            |83.75       |41.8            |153.6666667     |0             |0             |0               |0             |0             |0               |5               |209             |3               |461             |14480            |219              |1                |32              |0          |0         |0         |0         |0         |0          |0       |0       |Benign|\n",
            "|80      |6       |14/02/2018 08:47:19|479249       |5           |3           |215            |467            |215            |0              |43              |96.15092303    |467            |0              |155.6666667     |269.6225757    |1423.059829|16.69278392|68464.14286  |116522.1855 |239061      |18          |479249     |119812.25   |137797.5927|239270     |21         |239238     |119619      |168903.7684|239052     |186        |0            |0            |0            |0            |168           |104           |10.43298995|6.259793969|0          |467        |75.77777778 |163.0312683|26579.19444|0           |0           |0           |1           |0           |0           |0             |0           |0            |85.25       |43              |155.6666667     |0             |0             |0               |0             |0             |0               |5               |215             |3               |467             |14480            |219              |1                |32              |0          |0         |0         |0         |0         |0          |0       |0       |Benign|\n",
            "|80      |6       |14/02/2018 08:47:20|475967       |5           |3           |215            |467            |215            |0              |43              |96.15092303    |467            |0              |155.6666667     |269.6225757    |1432.872447|16.80788794|67995.28571  |115929.0811 |237703      |16          |475967     |118991.75   |137195.538 |237904     |21         |237915     |118957.5    |167975.3372|237734     |181        |0            |0            |0            |0            |168           |104           |10.50492996|6.302957978|0          |467        |75.77777778 |163.0312683|26579.19444|0           |0           |0           |1           |0           |0           |0             |0           |0            |85.25       |43              |155.6666667     |0             |0             |0               |0             |0             |0               |5               |215             |3               |467             |14480            |219              |1                |32              |0          |0         |0         |0         |0         |0          |0       |0       |Benign|\n",
            "+--------+--------+-------------------+-------------+------------+------------+---------------+---------------+---------------+---------------+----------------+---------------+---------------+---------------+----------------+---------------+-----------+-----------+-------------+------------+------------+------------+-----------+------------+-----------+-----------+-----------+-----------+------------+-----------+-----------+-----------+-------------+-------------+-------------+-------------+--------------+--------------+-----------+-----------+-----------+-----------+------------+-----------+-----------+------------+------------+------------+------------+------------+------------+--------------+------------+-------------+------------+----------------+----------------+--------------+--------------+----------------+--------------+--------------+----------------+----------------+----------------+----------------+----------------+-----------------+-----------------+-----------------+----------------+-----------+----------+----------+----------+----------+-----------+--------+--------+------+\n",
            "only showing top 20 rows\n",
            "\n",
            "1048575 12\n"
          ]
        }
      ],
      "source": [
        "#Identify the student who made a contribution and mention their name in the appropriate section of the code.\n",
        "\n",
        "## Philip Acquaye-Mensah\n",
        "\n",
        "# Load the compressed file as a text file\n",
        "df = spark.read.csv(\"CourseWork_Dataset_Machine_Learning.csv\", header = True)\n",
        "# Display the DataFrame\n",
        "df.show(20, truncate= False)\n",
        "\n",
        "# more info\n",
        "print(df.count(), df.rdd.getNumPartitions())"
      ]
    },
    {
      "cell_type": "code",
      "execution_count": 88,
      "metadata": {},
      "outputs": [],
      "source": [
        "from pyspark.sql.functions import col\n",
        "from pyspark.sql.types import FloatType\n",
        "\n",
        "# Exclude 'Label' column from casting\n",
        "columns_to_cast = [column for column in df.columns if column != 'Label']\n",
        "\n",
        "for column in columns_to_cast:\n",
        "    new_column = column.replace(' ', '_').replace('/', '_per_')\n",
        "    df = df.withColumnRenamed(column, new_column).withColumn(new_column, col(new_column).cast(FloatType()))"
      ]
    },
    {
      "cell_type": "code",
      "execution_count": 89,
      "metadata": {},
      "outputs": [
        {
          "name": "stdout",
          "output_type": "stream",
          "text": [
            "+--------------+\n",
            "|         Label|\n",
            "+--------------+\n",
            "|        Benign|\n",
            "|FTP-BruteForce|\n",
            "|SSH-Bruteforce|\n",
            "+--------------+\n",
            "\n"
          ]
        }
      ],
      "source": [
        "# Check Multi class label\n",
        "# Label is the column named Label\n",
        "df.select(\"Label\").distinct().show(20)"
      ]
    },
    {
      "cell_type": "code",
      "execution_count": 90,
      "metadata": {},
      "outputs": [
        {
          "name": "stdout",
          "output_type": "stream",
          "text": [
            "+--------------+------------+\n",
            "|         Label|Label_binary|\n",
            "+--------------+------------+\n",
            "|FTP-BruteForce|           1|\n",
            "|        Benign|           0|\n",
            "|SSH-Bruteforce|           1|\n",
            "+--------------+------------+\n",
            "\n"
          ]
        }
      ],
      "source": [
        "from pyspark.sql.functions import when, col\n",
        "\n",
        "# Convert \"Label\" into a binary classification where \"Benign\" is 0 and any attack is 1\n",
        "df = df.withColumn(\"Label_binary\", when(col(\"Label\") == \"Benign\", 0).otherwise(1))\n",
        "\n",
        "# Display the updated DataFrame to verify the transformation\n",
        "df.select(\"Label\", \"Label_binary\").distinct().show()"
      ]
    },
    {
      "cell_type": "code",
      "execution_count": 91,
      "metadata": {},
      "outputs": [
        {
          "name": "stdout",
          "output_type": "stream",
          "text": [
            "root\n",
            " |-- Dst_Port: float (nullable = true)\n",
            " |-- Protocol: float (nullable = true)\n",
            " |-- Flow_Duration: float (nullable = true)\n",
            " |-- Tot_Fwd_Pkts: float (nullable = true)\n",
            " |-- Tot_Bwd_Pkts: float (nullable = true)\n",
            " |-- TotLen_Fwd_Pkts: float (nullable = true)\n",
            " |-- TotLen_Bwd_Pkts: float (nullable = true)\n",
            " |-- Fwd_Pkt_Len_Max: float (nullable = true)\n",
            " |-- Fwd_Pkt_Len_Min: float (nullable = true)\n",
            " |-- Fwd_Pkt_Len_Mean: float (nullable = true)\n",
            " |-- Fwd_Pkt_Len_Std: float (nullable = true)\n",
            " |-- Bwd_Pkt_Len_Max: float (nullable = true)\n",
            " |-- Bwd_Pkt_Len_Min: float (nullable = true)\n",
            " |-- Bwd_Pkt_Len_Mean: float (nullable = true)\n",
            " |-- Bwd_Pkt_Len_Std: float (nullable = true)\n",
            " |-- Flow_Byts_per_s: float (nullable = true)\n",
            " |-- Flow_Pkts_per_s: float (nullable = true)\n",
            " |-- Flow_IAT_Mean: float (nullable = true)\n",
            " |-- Flow_IAT_Std: float (nullable = true)\n",
            " |-- Flow_IAT_Max: float (nullable = true)\n",
            " |-- Flow_IAT_Min: float (nullable = true)\n",
            " |-- Fwd_IAT_Tot: float (nullable = true)\n",
            " |-- Fwd_IAT_Mean: float (nullable = true)\n",
            " |-- Fwd_IAT_Std: float (nullable = true)\n",
            " |-- Fwd_IAT_Max: float (nullable = true)\n",
            " |-- Fwd_IAT_Min: float (nullable = true)\n",
            " |-- Bwd_IAT_Tot: float (nullable = true)\n",
            " |-- Bwd_IAT_Mean: float (nullable = true)\n",
            " |-- Bwd_IAT_Std: float (nullable = true)\n",
            " |-- Bwd_IAT_Max: float (nullable = true)\n",
            " |-- Bwd_IAT_Min: float (nullable = true)\n",
            " |-- Fwd_PSH_Flags: float (nullable = true)\n",
            " |-- Bwd_PSH_Flags: float (nullable = true)\n",
            " |-- Fwd_URG_Flags: float (nullable = true)\n",
            " |-- Bwd_URG_Flags: float (nullable = true)\n",
            " |-- Fwd_Header_Len: float (nullable = true)\n",
            " |-- Bwd_Header_Len: float (nullable = true)\n",
            " |-- Fwd_Pkts_per_s: float (nullable = true)\n",
            " |-- Bwd_Pkts_per_s: float (nullable = true)\n",
            " |-- Pkt_Len_Min: float (nullable = true)\n",
            " |-- Pkt_Len_Max: float (nullable = true)\n",
            " |-- Pkt_Len_Mean: float (nullable = true)\n",
            " |-- Pkt_Len_Std: float (nullable = true)\n",
            " |-- Pkt_Len_Var: float (nullable = true)\n",
            " |-- FIN_Flag_Cnt: float (nullable = true)\n",
            " |-- SYN_Flag_Cnt: float (nullable = true)\n",
            " |-- RST_Flag_Cnt: float (nullable = true)\n",
            " |-- PSH_Flag_Cnt: float (nullable = true)\n",
            " |-- ACK_Flag_Cnt: float (nullable = true)\n",
            " |-- URG_Flag_Cnt: float (nullable = true)\n",
            " |-- CWE_Flag_Count: float (nullable = true)\n",
            " |-- ECE_Flag_Cnt: float (nullable = true)\n",
            " |-- Down_per_Up_Ratio: float (nullable = true)\n",
            " |-- Pkt_Size_Avg: float (nullable = true)\n",
            " |-- Fwd_Seg_Size_Avg: float (nullable = true)\n",
            " |-- Bwd_Seg_Size_Avg: float (nullable = true)\n",
            " |-- Fwd_Byts_per_b_Avg: float (nullable = true)\n",
            " |-- Fwd_Pkts_per_b_Avg: float (nullable = true)\n",
            " |-- Fwd_Blk_Rate_Avg: float (nullable = true)\n",
            " |-- Bwd_Byts_per_b_Avg: float (nullable = true)\n",
            " |-- Bwd_Pkts_per_b_Avg: float (nullable = true)\n",
            " |-- Bwd_Blk_Rate_Avg: float (nullable = true)\n",
            " |-- Subflow_Fwd_Pkts: float (nullable = true)\n",
            " |-- Subflow_Fwd_Byts: float (nullable = true)\n",
            " |-- Subflow_Bwd_Pkts: float (nullable = true)\n",
            " |-- Subflow_Bwd_Byts: float (nullable = true)\n",
            " |-- Init_Fwd_Win_Byts: float (nullable = true)\n",
            " |-- Init_Bwd_Win_Byts: float (nullable = true)\n",
            " |-- Fwd_Act_Data_Pkts: float (nullable = true)\n",
            " |-- Fwd_Seg_Size_Min: float (nullable = true)\n",
            " |-- Active_Mean: float (nullable = true)\n",
            " |-- Active_Std: float (nullable = true)\n",
            " |-- Active_Max: float (nullable = true)\n",
            " |-- Active_Min: float (nullable = true)\n",
            " |-- Idle_Mean: float (nullable = true)\n",
            " |-- Idle_Std: float (nullable = true)\n",
            " |-- Idle_Max: float (nullable = true)\n",
            " |-- Idle_Min: float (nullable = true)\n",
            " |-- Label_binary: integer (nullable = false)\n",
            "\n"
          ]
        }
      ],
      "source": [
        "# Drop Label column because of new binary label and Timestamp column\n",
        "df = df.drop(\"Label\",\"Timestamp\")\n",
        "\n",
        "# Print the schema to see the data types and structure\n",
        "df.printSchema()"
      ]
    },
    {
      "cell_type": "code",
      "execution_count": 92,
      "metadata": {},
      "outputs": [
        {
          "name": "stdout",
          "output_type": "stream",
          "text": [
            "+--------+--------+-------------+------------+------------+---------------+---------------+---------------+---------------+----------------+---------------+---------------+---------------+----------------+---------------+---------------+---------------+-------------+------------+------------+------------+-----------+------------+-----------+-----------+-----------+-----------+------------+-----------+-----------+-----------+-------------+-------------+-------------+-------------+--------------+--------------+--------------+--------------+-----------+-----------+------------+-----------+-----------+------------+------------+------------+------------+------------+------------+--------------+------------+-----------------+------------+----------------+----------------+------------------+------------------+----------------+------------------+------------------+----------------+----------------+----------------+----------------+----------------+-----------------+-----------------+-----------------+----------------+-----------+----------+----------+----------+---------+--------+--------+--------+------------+\n",
            "|Dst_Port|Protocol|Flow_Duration|Tot_Fwd_Pkts|Tot_Bwd_Pkts|TotLen_Fwd_Pkts|TotLen_Bwd_Pkts|Fwd_Pkt_Len_Max|Fwd_Pkt_Len_Min|Fwd_Pkt_Len_Mean|Fwd_Pkt_Len_Std|Bwd_Pkt_Len_Max|Bwd_Pkt_Len_Min|Bwd_Pkt_Len_Mean|Bwd_Pkt_Len_Std|Flow_Byts_per_s|Flow_Pkts_per_s|Flow_IAT_Mean|Flow_IAT_Std|Flow_IAT_Max|Flow_IAT_Min|Fwd_IAT_Tot|Fwd_IAT_Mean|Fwd_IAT_Std|Fwd_IAT_Max|Fwd_IAT_Min|Bwd_IAT_Tot|Bwd_IAT_Mean|Bwd_IAT_Std|Bwd_IAT_Max|Bwd_IAT_Min|Fwd_PSH_Flags|Bwd_PSH_Flags|Fwd_URG_Flags|Bwd_URG_Flags|Fwd_Header_Len|Bwd_Header_Len|Fwd_Pkts_per_s|Bwd_Pkts_per_s|Pkt_Len_Min|Pkt_Len_Max|Pkt_Len_Mean|Pkt_Len_Std|Pkt_Len_Var|FIN_Flag_Cnt|SYN_Flag_Cnt|RST_Flag_Cnt|PSH_Flag_Cnt|ACK_Flag_Cnt|URG_Flag_Cnt|CWE_Flag_Count|ECE_Flag_Cnt|Down_per_Up_Ratio|Pkt_Size_Avg|Fwd_Seg_Size_Avg|Bwd_Seg_Size_Avg|Fwd_Byts_per_b_Avg|Fwd_Pkts_per_b_Avg|Fwd_Blk_Rate_Avg|Bwd_Byts_per_b_Avg|Bwd_Pkts_per_b_Avg|Bwd_Blk_Rate_Avg|Subflow_Fwd_Pkts|Subflow_Fwd_Byts|Subflow_Bwd_Pkts|Subflow_Bwd_Byts|Init_Fwd_Win_Byts|Init_Bwd_Win_Byts|Fwd_Act_Data_Pkts|Fwd_Seg_Size_Min|Active_Mean|Active_Std|Active_Max|Active_Min|Idle_Mean|Idle_Std|Idle_Max|Idle_Min|Label_binary|\n",
            "+--------+--------+-------------+------------+------------+---------------+---------------+---------------+---------------+----------------+---------------+---------------+---------------+----------------+---------------+---------------+---------------+-------------+------------+------------+------------+-----------+------------+-----------+-----------+-----------+-----------+------------+-----------+-----------+-----------+-------------+-------------+-------------+-------------+--------------+--------------+--------------+--------------+-----------+-----------+------------+-----------+-----------+------------+------------+------------+------------+------------+------------+--------------+------------+-----------------+------------+----------------+----------------+------------------+------------------+----------------+------------------+------------------+----------------+----------------+----------------+----------------+----------------+-----------------+-----------------+-----------------+----------------+-----------+----------+----------+----------+---------+--------+--------+--------+------------+\n",
            "|       0|       0|            0|           0|           0|              0|              0|              0|              0|               0|              0|              0|              0|               0|              0|           2277|              0|            0|           0|           0|           0|          0|           0|          0|          0|          0|          0|           0|          0|          0|          0|            0|            0|            0|            0|             0|             0|             0|             0|          0|          0|           0|          0|          0|           0|           0|           0|           0|           0|           0|             0|           0|                0|           0|               0|               0|                 0|                 0|               0|                 0|                 0|               0|               0|               0|               0|               0|                0|                0|                0|               0|          0|         0|         0|         0|        0|       0|       0|       0|           0|\n",
            "+--------+--------+-------------+------------+------------+---------------+---------------+---------------+---------------+----------------+---------------+---------------+---------------+----------------+---------------+---------------+---------------+-------------+------------+------------+------------+-----------+------------+-----------+-----------+-----------+-----------+------------+-----------+-----------+-----------+-------------+-------------+-------------+-------------+--------------+--------------+--------------+--------------+-----------+-----------+------------+-----------+-----------+------------+------------+------------+------------+------------+------------+--------------+------------+-----------------+------------+----------------+----------------+------------------+------------------+----------------+------------------+------------------+----------------+----------------+----------------+----------------+----------------+-----------------+-----------------+-----------------+----------------+-----------+----------+----------+----------+---------+--------+--------+--------+------------+\n",
            "\n"
          ]
        }
      ],
      "source": [
        "# Check for missing values in each column\n",
        "from pyspark.sql.functions import isnan, when, count, col\n",
        "df.select([count(when(isnan(c) | col(c).isNull(), c)).alias(c) for c in df.columns]).show()"
      ]
    },
    {
      "cell_type": "code",
      "execution_count": 93,
      "metadata": {},
      "outputs": [
        {
          "name": "stdout",
          "output_type": "stream",
          "text": [
            "root\n",
            " |-- Dst_Port: float (nullable = true)\n",
            " |-- Protocol: float (nullable = true)\n",
            " |-- Flow_Duration: float (nullable = true)\n",
            " |-- Tot_Fwd_Pkts: float (nullable = true)\n",
            " |-- Tot_Bwd_Pkts: float (nullable = true)\n",
            " |-- TotLen_Fwd_Pkts: float (nullable = true)\n",
            " |-- TotLen_Bwd_Pkts: float (nullable = true)\n",
            " |-- Fwd_Pkt_Len_Max: float (nullable = true)\n",
            " |-- Fwd_Pkt_Len_Min: float (nullable = true)\n",
            " |-- Fwd_Pkt_Len_Mean: float (nullable = true)\n",
            " |-- Fwd_Pkt_Len_Std: float (nullable = true)\n",
            " |-- Bwd_Pkt_Len_Max: float (nullable = true)\n",
            " |-- Bwd_Pkt_Len_Min: float (nullable = true)\n",
            " |-- Bwd_Pkt_Len_Mean: float (nullable = true)\n",
            " |-- Bwd_Pkt_Len_Std: float (nullable = true)\n",
            " |-- Flow_Pkts_per_s: float (nullable = true)\n",
            " |-- Flow_IAT_Mean: float (nullable = true)\n",
            " |-- Flow_IAT_Std: float (nullable = true)\n",
            " |-- Flow_IAT_Max: float (nullable = true)\n",
            " |-- Flow_IAT_Min: float (nullable = true)\n",
            " |-- Fwd_IAT_Tot: float (nullable = true)\n",
            " |-- Fwd_IAT_Mean: float (nullable = true)\n",
            " |-- Fwd_IAT_Std: float (nullable = true)\n",
            " |-- Fwd_IAT_Max: float (nullable = true)\n",
            " |-- Fwd_IAT_Min: float (nullable = true)\n",
            " |-- Bwd_IAT_Tot: float (nullable = true)\n",
            " |-- Bwd_IAT_Mean: float (nullable = true)\n",
            " |-- Bwd_IAT_Std: float (nullable = true)\n",
            " |-- Bwd_IAT_Max: float (nullable = true)\n",
            " |-- Bwd_IAT_Min: float (nullable = true)\n",
            " |-- Fwd_PSH_Flags: float (nullable = true)\n",
            " |-- Bwd_PSH_Flags: float (nullable = true)\n",
            " |-- Fwd_URG_Flags: float (nullable = true)\n",
            " |-- Bwd_URG_Flags: float (nullable = true)\n",
            " |-- Fwd_Header_Len: float (nullable = true)\n",
            " |-- Bwd_Header_Len: float (nullable = true)\n",
            " |-- Fwd_Pkts_per_s: float (nullable = true)\n",
            " |-- Bwd_Pkts_per_s: float (nullable = true)\n",
            " |-- Pkt_Len_Min: float (nullable = true)\n",
            " |-- Pkt_Len_Max: float (nullable = true)\n",
            " |-- Pkt_Len_Mean: float (nullable = true)\n",
            " |-- Pkt_Len_Std: float (nullable = true)\n",
            " |-- Pkt_Len_Var: float (nullable = true)\n",
            " |-- FIN_Flag_Cnt: float (nullable = true)\n",
            " |-- SYN_Flag_Cnt: float (nullable = true)\n",
            " |-- RST_Flag_Cnt: float (nullable = true)\n",
            " |-- PSH_Flag_Cnt: float (nullable = true)\n",
            " |-- ACK_Flag_Cnt: float (nullable = true)\n",
            " |-- URG_Flag_Cnt: float (nullable = true)\n",
            " |-- CWE_Flag_Count: float (nullable = true)\n",
            " |-- ECE_Flag_Cnt: float (nullable = true)\n",
            " |-- Down_per_Up_Ratio: float (nullable = true)\n",
            " |-- Pkt_Size_Avg: float (nullable = true)\n",
            " |-- Fwd_Seg_Size_Avg: float (nullable = true)\n",
            " |-- Bwd_Seg_Size_Avg: float (nullable = true)\n",
            " |-- Fwd_Byts_per_b_Avg: float (nullable = true)\n",
            " |-- Fwd_Pkts_per_b_Avg: float (nullable = true)\n",
            " |-- Fwd_Blk_Rate_Avg: float (nullable = true)\n",
            " |-- Bwd_Byts_per_b_Avg: float (nullable = true)\n",
            " |-- Bwd_Pkts_per_b_Avg: float (nullable = true)\n",
            " |-- Bwd_Blk_Rate_Avg: float (nullable = true)\n",
            " |-- Subflow_Fwd_Pkts: float (nullable = true)\n",
            " |-- Subflow_Fwd_Byts: float (nullable = true)\n",
            " |-- Subflow_Bwd_Pkts: float (nullable = true)\n",
            " |-- Subflow_Bwd_Byts: float (nullable = true)\n",
            " |-- Init_Fwd_Win_Byts: float (nullable = true)\n",
            " |-- Init_Bwd_Win_Byts: float (nullable = true)\n",
            " |-- Fwd_Act_Data_Pkts: float (nullable = true)\n",
            " |-- Fwd_Seg_Size_Min: float (nullable = true)\n",
            " |-- Active_Mean: float (nullable = true)\n",
            " |-- Active_Std: float (nullable = true)\n",
            " |-- Active_Max: float (nullable = true)\n",
            " |-- Active_Min: float (nullable = true)\n",
            " |-- Idle_Mean: float (nullable = true)\n",
            " |-- Idle_Std: float (nullable = true)\n",
            " |-- Idle_Max: float (nullable = true)\n",
            " |-- Idle_Min: float (nullable = true)\n",
            " |-- Label_binary: integer (nullable = false)\n",
            " |-- Flow_Byts_s_imputed: float (nullable = true)\n",
            "\n"
          ]
        }
      ],
      "source": [
        "from pyspark.sql.functions import col\n",
        "from pyspark.sql.types import FloatType\n",
        "\n",
        "\n",
        "# Now, use the Imputer on the renamed column\n",
        "imputer = Imputer(\n",
        "    inputCols=[\"Flow_Byts_per_s\"],\n",
        "    outputCols=[\"Flow_Byts_s_imputed\"]\n",
        ").setStrategy(\"median\")\n",
        "\n",
        "df = imputer.fit(df).transform(df)\n",
        "\n",
        "# Drop the 'Flow_Byts_per_s' column\n",
        "df = df.drop('Flow_Byts_per_s')\n",
        "\n",
        "# Print Schema again to check the changes\n",
        "df.printSchema()"
      ]
    },
    {
      "cell_type": "code",
      "execution_count": 94,
      "metadata": {},
      "outputs": [
        {
          "name": "stdout",
          "output_type": "stream",
          "text": [
            "+-------+---------------+\n",
            "|summary|Flow_Pkts_per_s|\n",
            "+-------+---------------+\n",
            "|  count|        1048575|\n",
            "|   mean|       Infinity|\n",
            "| stddev|            NaN|\n",
            "|    min|   -0.001029761|\n",
            "|    max|       Infinity|\n",
            "+-------+---------------+\n",
            "\n"
          ]
        }
      ],
      "source": [
        "df.describe(\"Flow_Pkts_per_s\").show(10)"
      ]
    },
    {
      "cell_type": "code",
      "execution_count": 95,
      "metadata": {},
      "outputs": [
        {
          "name": "stdout",
          "output_type": "stream",
          "text": [
            "Column 'Flow_Duration' has 5 rows with problematic values.\n",
            "Column 'Flow_Pkts_per_s' has 5 rows with problematic values.\n",
            "Column 'Flow_IAT_Mean' has 5 rows with problematic values.\n",
            "Column 'Flow_IAT_Max' has 2 rows with problematic values.\n",
            "Column 'Flow_IAT_Min' has 5 rows with problematic values.\n",
            "Column 'Fwd_IAT_Tot' has 5 rows with problematic values.\n",
            "Column 'Fwd_IAT_Mean' has 5 rows with problematic values.\n",
            "Column 'Fwd_IAT_Max' has 2 rows with problematic values.\n",
            "Column 'Fwd_IAT_Min' has 5 rows with problematic values.\n",
            "Column 'Init_Fwd_Win_Byts' has 219266 rows with problematic values.\n",
            "Column 'Init_Bwd_Win_Byts' has 347370 rows with problematic values.\n"
          ]
        }
      ],
      "source": [
        "from pyspark.sql.functions import col, isnan\n",
        "\n",
        "# Iterate through each column in the DataFrame\n",
        "for column in df.columns:\n",
        "    # Filter rows where the column contains problematic values\n",
        "    problematic_rows = df.filter(\n",
        "        (col(column).isNull()) |   # Check for null values\n",
        "        (isnan(col(column))) |     # Check for NaN values\n",
        "        (col(column) < 0)          # Check for negative values\n",
        "    )\n",
        "    \n",
        "    # If there are any rows containing problematic values, print the column name\n",
        "    if problematic_rows.count() > 0:\n",
        "        print(f\"Column '{column}' has {problematic_rows.count()} rows with problematic values.\")"
      ]
    },
    {
      "cell_type": "code",
      "execution_count": 96,
      "metadata": {},
      "outputs": [
        {
          "name": "stdout",
          "output_type": "stream",
          "text": [
            "+-------+-----------------------+\n",
            "|summary|Flow_Byts_s_nan_imputed|\n",
            "+-------+-----------------------+\n",
            "|  count|                1048575|\n",
            "|   mean|     193096.85716243155|\n",
            "| stddev|      3096074.866298894|\n",
            "|    min|                    0.0|\n",
            "|    max|           4.45249984E8|\n",
            "+-------+-----------------------+\n",
            "\n"
          ]
        }
      ],
      "source": [
        "from pyspark.sql.functions import when, col\n",
        "\n",
        "# List of columns to replace Infinity values with NaN\n",
        "columns = [\"Flow_Byts_s_imputed\", \"Flow_Pkts_per_s\"]\n",
        "\n",
        "#! Loop through each column and replace Infinity with NaN\n",
        "for col_name in columns:\n",
        "    df = df.withColumn(col_name, when(col(col_name) == float('inf'), float('nan')).otherwise(col(col_name)))\n",
        "    \n",
        "#! Replace negative values with zero for all columns in the DataFrame\n",
        "for col_name in df.columns:\n",
        "    df = df.withColumn(col_name, when(df[col_name] < 0, 0).otherwise(df[col_name]))\n",
        "\n",
        "\n",
        "output_cols = [\"Flow_Byts_s_nan_imputed\", \"Flow_Pkts_per_s_nan_imputed\"]\n",
        "\n",
        "\n",
        "#! impute nan values with mean\n",
        "imputer = Imputer(\n",
        "    inputCols=columns,\n",
        "    outputCols=output_cols\n",
        ").setStrategy(\"median\")\n",
        "\n",
        "\n",
        "\n",
        "df = imputer.fit(df).transform(df)\n",
        "\n",
        "df.describe(\"Flow_Byts_s_nan_imputed\").show()"
      ]
    },
    {
      "cell_type": "code",
      "execution_count": 97,
      "metadata": {},
      "outputs": [
        {
          "name": "stdout",
          "output_type": "stream",
          "text": [
            "+--------+--------+-------------+------------+------------+---------------+---------------+---------------+---------------+----------------+---------------+---------------+---------------+----------------+---------------+-------------+------------+------------+------------+------------+------------+-----------+-----------+-----------+-----------+------------+-----------+-----------+-----------+-------------+-------------+-------------+-------------+--------------+--------------+--------------+--------------+-----------+-----------+------------+-----------+-----------+------------+------------+------------+------------+------------+------------+--------------+------------+-----------------+------------+----------------+----------------+------------------+------------------+----------------+------------------+------------------+----------------+----------------+----------------+----------------+----------------+-----------------+-----------------+-----------------+----------------+-----------+----------+----------+----------+-----------+---------+-----------+-----------+------------+-----------------------+---------------------------+\n",
            "|Dst_Port|Protocol|Flow_Duration|Tot_Fwd_Pkts|Tot_Bwd_Pkts|TotLen_Fwd_Pkts|TotLen_Bwd_Pkts|Fwd_Pkt_Len_Max|Fwd_Pkt_Len_Min|Fwd_Pkt_Len_Mean|Fwd_Pkt_Len_Std|Bwd_Pkt_Len_Max|Bwd_Pkt_Len_Min|Bwd_Pkt_Len_Mean|Bwd_Pkt_Len_Std|Flow_IAT_Mean|Flow_IAT_Std|Flow_IAT_Max|Flow_IAT_Min|Fwd_IAT_Tot |Fwd_IAT_Mean|Fwd_IAT_Std|Fwd_IAT_Max|Fwd_IAT_Min|Bwd_IAT_Tot|Bwd_IAT_Mean|Bwd_IAT_Std|Bwd_IAT_Max|Bwd_IAT_Min|Fwd_PSH_Flags|Bwd_PSH_Flags|Fwd_URG_Flags|Bwd_URG_Flags|Fwd_Header_Len|Bwd_Header_Len|Fwd_Pkts_per_s|Bwd_Pkts_per_s|Pkt_Len_Min|Pkt_Len_Max|Pkt_Len_Mean|Pkt_Len_Std|Pkt_Len_Var|FIN_Flag_Cnt|SYN_Flag_Cnt|RST_Flag_Cnt|PSH_Flag_Cnt|ACK_Flag_Cnt|URG_Flag_Cnt|CWE_Flag_Count|ECE_Flag_Cnt|Down_per_Up_Ratio|Pkt_Size_Avg|Fwd_Seg_Size_Avg|Bwd_Seg_Size_Avg|Fwd_Byts_per_b_Avg|Fwd_Pkts_per_b_Avg|Fwd_Blk_Rate_Avg|Bwd_Byts_per_b_Avg|Bwd_Pkts_per_b_Avg|Bwd_Blk_Rate_Avg|Subflow_Fwd_Pkts|Subflow_Fwd_Byts|Subflow_Bwd_Pkts|Subflow_Bwd_Byts|Init_Fwd_Win_Byts|Init_Bwd_Win_Byts|Fwd_Act_Data_Pkts|Fwd_Seg_Size_Min|Active_Mean|Active_Std|Active_Max|Active_Min|Idle_Mean  |Idle_Std |Idle_Max   |Idle_Min   |Label_binary|Flow_Byts_s_nan_imputed|Flow_Pkts_per_s_nan_imputed|\n",
            "+--------+--------+-------------+------------+------------+---------------+---------------+---------------+---------------+----------------+---------------+---------------+---------------+----------------+---------------+-------------+------------+------------+------------+------------+------------+-----------+-----------+-----------+-----------+------------+-----------+-----------+-----------+-------------+-------------+-------------+-------------+--------------+--------------+--------------+--------------+-----------+-----------+------------+-----------+-----------+------------+------------+------------+------------+------------+------------+--------------+------------+-----------------+------------+----------------+----------------+------------------+------------------+----------------+------------------+------------------+----------------+----------------+----------------+----------------+----------------+-----------------+-----------------+-----------------+----------------+-----------+----------+----------+----------+-----------+---------+-----------+-----------+------------+-----------------------+---------------------------+\n",
            "|0.0     |0.0     |1.1264172E8  |3.0         |0.0         |0.0            |0.0            |0.0            |0.0            |0.0             |0.0            |0.0            |0.0            |0.0             |0.0            |5.632086E7   |139.30003   |5.632096E7  |5.632076E7  |1.1264172E8 |5.632086E7  |139.30003  |5.632096E7 |5.632076E7 |0.0        |0.0         |0.0        |0.0        |0.0        |0.0          |0.0          |0.0          |0.0          |0.0           |0.0           |0.026633115   |0.0           |0.0        |0.0        |0.0         |0.0        |0.0        |0.0         |0.0         |0.0         |0.0         |0.0         |0.0         |0.0           |0.0         |0.0              |0.0         |0.0             |0.0             |0.0               |0.0               |0.0             |0.0               |0.0               |0.0             |3.0             |0.0             |0.0             |0.0             |0.0              |0.0              |0.0              |0.0             |0.0        |0.0       |0.0       |0.0       |5.632086E7 |139.30003|5.632096E7 |5.632076E7 |0           |0.0                    |0.026633115485310555       |\n",
            "|0.0     |0.0     |1.12641464E8 |3.0         |0.0         |0.0            |0.0            |0.0            |0.0            |0.0             |0.0            |0.0            |0.0            |0.0             |0.0            |5.6320732E7  |114.5513    |5.6320816E7 |5.6320652E7 |1.12641464E8|5.6320732E7 |114.5513   |5.6320816E7|5.6320652E7|0.0        |0.0         |0.0        |0.0        |0.0        |0.0          |0.0          |0.0          |0.0          |0.0           |0.0           |0.026633175   |0.0           |0.0        |0.0        |0.0         |0.0        |0.0        |0.0         |0.0         |0.0         |0.0         |0.0         |0.0         |0.0           |0.0         |0.0              |0.0         |0.0             |0.0             |0.0               |0.0               |0.0             |0.0               |0.0               |0.0             |3.0             |0.0             |0.0             |0.0             |0.0              |0.0              |0.0              |0.0             |0.0        |0.0       |0.0       |0.0       |5.6320732E7|114.5513 |5.6320816E7|5.6320652E7|0           |0.0                    |0.02663317508995533        |\n",
            "|0.0     |0.0     |1.1263862E8  |3.0         |0.0         |0.0            |0.0            |0.0            |0.0            |0.0             |0.0            |0.0            |0.0            |0.0             |0.0            |5.631931E7   |301.9346    |5.6319524E7 |5.6319096E7 |1.1263862E8 |5.631931E7  |301.9346   |5.6319524E7|5.6319096E7|0.0        |0.0         |0.0        |0.0        |0.0        |0.0          |0.0          |0.0          |0.0          |0.0           |0.0           |0.026633848   |0.0           |0.0        |0.0        |0.0         |0.0        |0.0        |0.0         |0.0         |0.0         |0.0         |0.0         |0.0         |0.0           |0.0         |0.0              |0.0         |0.0             |0.0             |0.0               |0.0               |0.0             |0.0               |0.0               |0.0             |3.0             |0.0             |0.0             |0.0             |0.0              |0.0              |0.0              |0.0             |0.0        |0.0       |0.0       |0.0       |5.631931E7 |301.9346 |5.6319524E7|5.6319096E7|0           |0.0                    |0.026633847504854202       |\n",
            "|22.0    |6.0     |6453966.0    |15.0        |10.0        |1239.0         |2273.0         |744.0          |0.0            |82.6            |196.74124      |976.0          |0.0            |227.3           |371.6779       |268915.25    |247443.78   |673900.0    |22.0        |6453966.0   |460997.56   |123109.42  |673900.0   |229740.0   |5637902.0  |626433.56   |455082.22  |1167293.0  |554.0      |0.0          |0.0          |0.0          |0.0          |488.0         |328.0         |2.3241522     |1.5494349     |0.0        |976.0      |135.07692   |277.83475  |77192.16   |0.0         |0.0         |0.0         |1.0         |0.0         |0.0         |0.0           |0.0         |0.0              |140.48      |82.6            |227.3           |0.0               |0.0               |0.0             |0.0               |0.0               |0.0             |15.0            |1239.0          |10.0            |2273.0          |65535.0          |233.0            |6.0              |32.0            |0.0        |0.0       |0.0       |0.0       |0.0        |0.0      |0.0        |0.0        |0           |544.1614990234375      |3.873587131500244          |\n",
            "|22.0    |6.0     |8804066.0    |14.0        |11.0        |1143.0         |2209.0         |744.0          |0.0            |81.64286        |203.74554      |976.0          |0.0            |200.81818       |362.24988      |366836.1     |511356.62   |1928102.0   |21.0        |8804066.0   |677235.9    |532417.0   |1928102.0  |246924.0   |7715481.0  |771548.1    |755543.06  |2174893.0  |90.0       |0.0          |0.0          |0.0          |0.0          |456.0         |360.0         |1.5901743     |1.2494227     |0.0        |976.0      |128.92308   |279.76303  |78267.35   |0.0         |0.0         |0.0         |1.0         |0.0         |0.0         |0.0           |0.0         |0.0              |134.08      |81.64286        |200.81818       |0.0               |0.0               |0.0             |0.0               |0.0               |0.0             |14.0            |1143.0          |11.0            |2209.0          |5808.0           |233.0            |6.0              |32.0            |0.0        |0.0       |0.0       |0.0       |0.0        |0.0      |0.0        |0.0        |0           |380.7331848144531      |2.83959698677063           |\n",
            "|22.0    |6.0     |6989341.0    |16.0        |12.0        |1239.0         |2273.0         |744.0          |0.0            |77.4375         |190.83115      |976.0          |0.0            |189.41667       |347.64258      |258864.48    |291724.16   |951098.0    |20.0        |6989341.0   |465956.06   |244363.89  |951098.0   |265831.0   |5980598.0  |543690.75   |460713.53  |1254338.0  |78.0       |0.0          |0.0          |0.0          |0.0          |332.0         |252.0         |2.2892        |1.7169001     |0.0        |976.0      |121.10345   |265.70868  |70601.09   |0.0         |0.0         |0.0         |1.0         |0.0         |0.0         |0.0           |0.0         |0.0              |125.42857   |77.4375         |189.41667       |0.0               |0.0               |0.0             |0.0               |0.0               |0.0             |16.0            |1239.0          |12.0            |2273.0          |5808.0           |234.0            |7.0              |20.0            |0.0        |0.0       |0.0       |0.0       |0.0        |0.0      |0.0        |0.0        |0           |502.47943115234375     |4.006100177764893          |\n",
            "|0.0     |0.0     |1.1264048E8  |3.0         |0.0         |0.0            |0.0            |0.0            |0.0            |0.0             |0.0            |0.0            |0.0            |0.0             |0.0            |5.632024E7   |203.64676   |5.6320384E7 |5.6320096E7 |1.1264048E8 |5.632024E7  |203.64676  |5.6320384E7|5.6320096E7|0.0        |0.0         |0.0        |0.0        |0.0        |0.0          |0.0          |0.0          |0.0          |0.0           |0.0           |0.02663341    |0.0           |0.0        |0.0        |0.0         |0.0        |0.0        |0.0         |0.0         |0.0         |0.0         |0.0         |0.0         |0.0           |0.0         |0.0              |0.0         |0.0             |0.0             |0.0               |0.0               |0.0             |0.0               |0.0               |0.0             |3.0             |0.0             |0.0             |0.0             |0.0              |0.0              |0.0              |0.0             |0.0        |0.0       |0.0       |0.0       |5.632024E7 |203.64676|5.6320384E7|5.6320096E7|0           |0.0                    |0.026633409783244133       |\n",
            "|0.0     |0.0     |1.1264125E8  |3.0         |0.0         |0.0            |0.0            |0.0            |0.0            |0.0             |0.0            |0.0            |0.0            |0.0             |0.0            |5.6320624E7  |62.225395   |5.6320664E7 |5.6320576E7 |1.1264125E8 |5.6320624E7 |62.225395  |5.6320664E7|5.6320576E7|0.0        |0.0         |0.0        |0.0        |0.0        |0.0          |0.0          |0.0          |0.0          |0.0           |0.0           |0.02663323    |0.0           |0.0        |0.0        |0.0         |0.0        |0.0        |0.0         |0.0         |0.0         |0.0         |0.0         |0.0         |0.0           |0.0         |0.0              |0.0         |0.0             |0.0             |0.0               |0.0               |0.0             |0.0               |0.0               |0.0             |3.0             |0.0             |0.0             |0.0             |0.0              |0.0              |0.0              |0.0             |0.0        |0.0       |0.0       |0.0       |5.6320624E7|62.225395|5.6320664E7|5.6320576E7|0           |0.0                    |0.026633229106664658       |\n",
            "|80.0    |6.0     |476513.0     |5.0         |3.0         |211.0          |463.0          |211.0          |0.0            |42.2            |94.36207       |463.0          |0.0            |154.33333       |267.31317      |68073.29     |115865.79   |237711.0    |24.0        |476513.0    |119128.25   |137379.97  |238470.0   |108.0      |238634.0   |119317.0    |167621.08  |237843.0   |791.0      |0.0          |0.0          |0.0          |0.0          |168.0         |104.0         |10.492893     |6.295736      |0.0        |463.0      |74.888885   |161.40588  |26051.861  |0.0         |0.0         |0.0         |1.0         |0.0         |0.0         |0.0           |0.0         |0.0              |84.25       |42.2            |154.33333       |0.0               |0.0               |0.0             |0.0               |0.0               |0.0             |5.0             |211.0           |3.0             |463.0           |14600.0          |219.0            |1.0              |32.0            |0.0        |0.0       |0.0       |0.0       |0.0        |0.0      |0.0        |0.0        |0           |1414.4420166015625     |16.78862953186035          |\n",
            "|80.0    |6.0     |475048.0     |5.0         |3.0         |220.0          |472.0          |220.0          |0.0            |44.0            |98.38699       |472.0          |0.0            |157.33333       |272.50934      |67864.0      |115746.93   |237494.0    |15.0        |475048.0    |118762.0    |137096.77  |237853.0   |15.0       |237516.0   |118758.0    |167472.58  |237179.0   |337.0      |0.0          |0.0          |0.0          |0.0          |168.0         |104.0         |10.525252     |6.315151      |0.0        |472.0      |76.888885   |165.06699  |27247.111  |0.0         |0.0         |0.0         |1.0         |0.0         |0.0         |0.0           |0.0         |0.0              |86.5        |44.0            |157.33333       |0.0               |0.0               |0.0             |0.0               |0.0               |0.0             |5.0             |220.0           |3.0             |472.0           |14600.0          |219.0            |1.0              |32.0            |0.0        |0.0       |0.0       |0.0       |0.0        |0.0      |0.0        |0.0        |0           |1456.6949462890625     |16.840402603149414         |\n",
            "+--------+--------+-------------+------------+------------+---------------+---------------+---------------+---------------+----------------+---------------+---------------+---------------+----------------+---------------+-------------+------------+------------+------------+------------+------------+-----------+-----------+-----------+-----------+------------+-----------+-----------+-----------+-------------+-------------+-------------+-------------+--------------+--------------+--------------+--------------+-----------+-----------+------------+-----------+-----------+------------+------------+------------+------------+------------+------------+--------------+------------+-----------------+------------+----------------+----------------+------------------+------------------+----------------+------------------+------------------+----------------+----------------+----------------+----------------+----------------+-----------------+-----------------+-----------------+----------------+-----------+----------+----------+----------+-----------+---------+-----------+-----------+------------+-----------------------+---------------------------+\n",
            "only showing top 10 rows\n",
            "\n"
          ]
        }
      ],
      "source": [
        "df = df.drop('Flow_Byts_s_imputed', 'Flow_Pkts_per_s')\n",
        "\n",
        "df.show(10, truncate=False)"
      ]
    },
    {
      "cell_type": "code",
      "execution_count": 98,
      "metadata": {},
      "outputs": [
        {
          "name": "stdout",
          "output_type": "stream",
          "text": [
            "+--------+--------+-------------+------------+------------+---------------+---------------+---------------+---------------+----------------+---------------+---------------+---------------+----------------+---------------+-------------+------------+------------+------------+-----------+------------+-----------+-----------+-----------+-----------+------------+-----------+-----------+-----------+-------------+-------------+-------------+-------------+--------------+--------------+--------------+--------------+-----------+-----------+------------+-----------+-----------+------------+------------+------------+------------+------------+------------+--------------+------------+-----------------+------------+----------------+----------------+------------------+------------------+----------------+------------------+------------------+----------------+----------------+----------------+----------------+----------------+-----------------+-----------------+-----------------+----------------+-----------+----------+----------+----------+---------+--------+--------+--------+------------+-----------------------+---------------------------+\n",
            "|Dst_Port|Protocol|Flow_Duration|Tot_Fwd_Pkts|Tot_Bwd_Pkts|TotLen_Fwd_Pkts|TotLen_Bwd_Pkts|Fwd_Pkt_Len_Max|Fwd_Pkt_Len_Min|Fwd_Pkt_Len_Mean|Fwd_Pkt_Len_Std|Bwd_Pkt_Len_Max|Bwd_Pkt_Len_Min|Bwd_Pkt_Len_Mean|Bwd_Pkt_Len_Std|Flow_IAT_Mean|Flow_IAT_Std|Flow_IAT_Max|Flow_IAT_Min|Fwd_IAT_Tot|Fwd_IAT_Mean|Fwd_IAT_Std|Fwd_IAT_Max|Fwd_IAT_Min|Bwd_IAT_Tot|Bwd_IAT_Mean|Bwd_IAT_Std|Bwd_IAT_Max|Bwd_IAT_Min|Fwd_PSH_Flags|Bwd_PSH_Flags|Fwd_URG_Flags|Bwd_URG_Flags|Fwd_Header_Len|Bwd_Header_Len|Fwd_Pkts_per_s|Bwd_Pkts_per_s|Pkt_Len_Min|Pkt_Len_Max|Pkt_Len_Mean|Pkt_Len_Std|Pkt_Len_Var|FIN_Flag_Cnt|SYN_Flag_Cnt|RST_Flag_Cnt|PSH_Flag_Cnt|ACK_Flag_Cnt|URG_Flag_Cnt|CWE_Flag_Count|ECE_Flag_Cnt|Down_per_Up_Ratio|Pkt_Size_Avg|Fwd_Seg_Size_Avg|Bwd_Seg_Size_Avg|Fwd_Byts_per_b_Avg|Fwd_Pkts_per_b_Avg|Fwd_Blk_Rate_Avg|Bwd_Byts_per_b_Avg|Bwd_Pkts_per_b_Avg|Bwd_Blk_Rate_Avg|Subflow_Fwd_Pkts|Subflow_Fwd_Byts|Subflow_Bwd_Pkts|Subflow_Bwd_Byts|Init_Fwd_Win_Byts|Init_Bwd_Win_Byts|Fwd_Act_Data_Pkts|Fwd_Seg_Size_Min|Active_Mean|Active_Std|Active_Max|Active_Min|Idle_Mean|Idle_Std|Idle_Max|Idle_Min|Label_binary|Flow_Byts_s_nan_imputed|Flow_Pkts_per_s_nan_imputed|\n",
            "+--------+--------+-------------+------------+------------+---------------+---------------+---------------+---------------+----------------+---------------+---------------+---------------+----------------+---------------+-------------+------------+------------+------------+-----------+------------+-----------+-----------+-----------+-----------+------------+-----------+-----------+-----------+-------------+-------------+-------------+-------------+--------------+--------------+--------------+--------------+-----------+-----------+------------+-----------+-----------+------------+------------+------------+------------+------------+------------+--------------+------------+-----------------+------------+----------------+----------------+------------------+------------------+----------------+------------------+------------------+----------------+----------------+----------------+----------------+----------------+-----------------+-----------------+-----------------+----------------+-----------+----------+----------+----------+---------+--------+--------+--------+------------+-----------------------+---------------------------+\n",
            "|       0|       0|            0|           0|           0|              0|              0|              0|              0|               0|              0|              0|              0|               0|              0|            0|           0|           0|           0|          0|           0|          0|          0|          0|          0|           0|          0|          0|          0|            0|            0|            0|            0|             0|             0|             0|             0|          0|          0|           0|          0|          0|           0|           0|           0|           0|           0|           0|             0|           0|                0|           0|               0|               0|                 0|                 0|               0|                 0|                 0|               0|               0|               0|               0|               0|                0|                0|                0|               0|          0|         0|         0|         0|        0|       0|       0|       0|           0|                      0|                          0|\n",
            "+--------+--------+-------------+------------+------------+---------------+---------------+---------------+---------------+----------------+---------------+---------------+---------------+----------------+---------------+-------------+------------+------------+------------+-----------+------------+-----------+-----------+-----------+-----------+------------+-----------+-----------+-----------+-------------+-------------+-------------+-------------+--------------+--------------+--------------+--------------+-----------+-----------+------------+-----------+-----------+------------+------------+------------+------------+------------+------------+--------------+------------+-----------------+------------+----------------+----------------+------------------+------------------+----------------+------------------+------------------+----------------+----------------+----------------+----------------+----------------+-----------------+-----------------+-----------------+----------------+-----------+----------+----------+----------+---------+--------+--------+--------+------------+-----------------------+---------------------------+\n",
            "\n"
          ]
        }
      ],
      "source": [
        "# Check for missing values again\n",
        "df.select([count(when(isnan(c) | col(c).isNull(), c)).alias(c) for c in df.columns]).show()"
      ]
    },
    {
      "cell_type": "code",
      "execution_count": 99,
      "metadata": {},
      "outputs": [
        {
          "name": "stdout",
          "output_type": "stream",
          "text": [
            "+-------+-----------------+------------------+--------------------+------------------+------------------+------------------+-----------------+------------------+------------------+------------------+-----------------+-----------------+------------------+-----------------+------------------+------------------+-------------------+--------------------+------------------+--------------------+-----------------+-------------------+--------------------+-----------------+-------------------+------------------+-----------------+------------------+------------------+-------------------+-------------+-------------+-------------+------------------+-----------------+------------------+------------------+------------------+------------------+------------------+------------------+------------------+--------------------+-------------------+--------------------+-------------------+-------------------+-------------------+--------------+--------------------+------------------+-----------------+------------------+-----------------+------------------+------------------+----------------+------------------+------------------+----------------+------------------+------------------+------------------+-----------------+------------------+------------------+------------------+------------------+------------------+------------------+-----------------+------------------+-------------------+-------------------+--------------------+------------------+------------------+-----------------------+---------------------------+\n",
            "|summary|         Dst_Port|          Protocol|       Flow_Duration|      Tot_Fwd_Pkts|      Tot_Bwd_Pkts|   TotLen_Fwd_Pkts|  TotLen_Bwd_Pkts|   Fwd_Pkt_Len_Max|   Fwd_Pkt_Len_Min|  Fwd_Pkt_Len_Mean|  Fwd_Pkt_Len_Std|  Bwd_Pkt_Len_Max|   Bwd_Pkt_Len_Min| Bwd_Pkt_Len_Mean|   Bwd_Pkt_Len_Std|     Flow_IAT_Mean|       Flow_IAT_Std|        Flow_IAT_Max|      Flow_IAT_Min|         Fwd_IAT_Tot|     Fwd_IAT_Mean|        Fwd_IAT_Std|         Fwd_IAT_Max|      Fwd_IAT_Min|        Bwd_IAT_Tot|      Bwd_IAT_Mean|      Bwd_IAT_Std|       Bwd_IAT_Max|       Bwd_IAT_Min|      Fwd_PSH_Flags|Bwd_PSH_Flags|Fwd_URG_Flags|Bwd_URG_Flags|    Fwd_Header_Len|   Bwd_Header_Len|    Fwd_Pkts_per_s|    Bwd_Pkts_per_s|       Pkt_Len_Min|       Pkt_Len_Max|      Pkt_Len_Mean|       Pkt_Len_Std|       Pkt_Len_Var|        FIN_Flag_Cnt|       SYN_Flag_Cnt|        RST_Flag_Cnt|       PSH_Flag_Cnt|       ACK_Flag_Cnt|       URG_Flag_Cnt|CWE_Flag_Count|        ECE_Flag_Cnt| Down_per_Up_Ratio|     Pkt_Size_Avg|  Fwd_Seg_Size_Avg| Bwd_Seg_Size_Avg|Fwd_Byts_per_b_Avg|Fwd_Pkts_per_b_Avg|Fwd_Blk_Rate_Avg|Bwd_Byts_per_b_Avg|Bwd_Pkts_per_b_Avg|Bwd_Blk_Rate_Avg|  Subflow_Fwd_Pkts|  Subflow_Fwd_Byts|  Subflow_Bwd_Pkts| Subflow_Bwd_Byts| Init_Fwd_Win_Byts| Init_Bwd_Win_Byts| Fwd_Act_Data_Pkts|  Fwd_Seg_Size_Min|       Active_Mean|        Active_Std|       Active_Max|        Active_Min|          Idle_Mean|           Idle_Std|            Idle_Max|          Idle_Min|      Label_binary|Flow_Byts_s_nan_imputed|Flow_Pkts_per_s_nan_imputed|\n",
            "+-------+-----------------+------------------+--------------------+------------------+------------------+------------------+-----------------+------------------+------------------+------------------+-----------------+-----------------+------------------+-----------------+------------------+------------------+-------------------+--------------------+------------------+--------------------+-----------------+-------------------+--------------------+-----------------+-------------------+------------------+-----------------+------------------+------------------+-------------------+-------------+-------------+-------------+------------------+-----------------+------------------+------------------+------------------+------------------+------------------+------------------+------------------+--------------------+-------------------+--------------------+-------------------+-------------------+-------------------+--------------+--------------------+------------------+-----------------+------------------+-----------------+------------------+------------------+----------------+------------------+------------------+----------------+------------------+------------------+------------------+-----------------+------------------+------------------+------------------+------------------+------------------+------------------+-----------------+------------------+-------------------+-------------------+--------------------+------------------+------------------+-----------------------+---------------------------+\n",
            "|  count|          1048575|           1048575|             1048575|           1048575|           1048575|           1048575|          1048575|           1048575|           1048575|           1048575|          1048575|          1048575|           1048575|          1048575|           1048575|           1048575|            1048575|             1048575|           1048575|             1048575|          1048575|            1048575|             1048575|          1048575|            1048575|           1048575|          1048575|           1048575|           1048575|            1048575|      1048575|      1048575|      1048575|           1048575|          1048575|           1048575|           1048575|           1048575|           1048575|           1048575|           1048575|           1048575|             1048575|            1048575|             1048575|            1048575|            1048575|            1048575|       1048575|             1048575|           1048575|          1048575|           1048575|          1048575|           1048575|           1048575|         1048575|           1048575|           1048575|         1048575|           1048575|           1048575|           1048575|          1048575|           1048575|           1048575|           1048575|           1048575|           1048575|           1048575|          1048575|           1048575|            1048575|            1048575|             1048575|           1048575|           1048575|                1048575|                    1048575|\n",
            "|   mean|4876.261774312758| 8.107557399327659|   8559573.873579858| 6.206622320768663| 7.211191378775958|447.99364280094414|4521.803392222779|174.57359273299477| 8.389535321746179|  38.7957882270698|50.21107375953822|332.5241427651813|20.165865102639295|92.75989089844073|111.38990785498389|1933076.5022400515| 2101496.8941480056|   6469416.830745536|1626178.2700903607|   8248322.121145364|2124711.076035951|  2147776.231532332|   6245360.170623942|1670376.654808669|  5754842.725075459|479811.02805311285|604914.6568940895|1770278.8363979687|  88804.7407061965|0.02659418734949813|          0.0|          0.0|          0.0|156.00788117206685| 172.705021576902|141388.62685519856|125857.49710810593| 8.322709391316787|337.54171995326993|63.114240755574464| 95.70919185575272|30928.898729572593|0.003572467396228...|0.02659418734949813|0.039604224781250745| 0.5254311804115108| 0.2634699473094438|0.12114631762153398|           0.0|0.039603271106024844|0.6634537348306034|71.44444605893555|  38.7957882270698|92.75989089844073|               0.0|               0.0|             0.0|               0.0|               0.0|             0.0| 6.206622320768663|447.99364280094414| 7.211191378775958|4521.803392222779|10501.871129866724| 6142.625989557257|2.7935359893188374|23.279704360679972|51524.487946931855|21361.509587558623|87891.57211167537|39954.774366163605| 3101206.0196514316|  729721.4100018578|    4812390.67394607| 2126919.601815798|0.3633016236320721|     193096.85716243155|          267253.5665218804|\n",
            "| stddev|14443.43600351917|4.4606246443820465|2.6490121943178765E7|44.478512313301444|104.86818042875194|15735.414790849341|151502.1211764954| 287.6713000641282|19.482785322447295|53.318821226613366|85.18887336653354|493.8586685073097| 46.53823484510429|157.9996698449866|186.00815215594235| 9513657.299052859|7.332937923618984E8|1.5221377620518234E9| 9433898.874430452|2.6317438914837703E7|9605648.371141944|7.332951134257694E8|1.5221361442231116E9|9503701.340836205|2.257935499354343E7| 2291241.835915692|2612809.337580275| 7985050.161473828|1690612.0561740818|0.16089425482742242|          0.0|          0.0|          0.0|1078.1193657900235|2103.964035310929|308526.47878515854| 267030.6298023089|18.906692623503854| 502.3828302829749| 100.7339788283769|147.54209489599137|117069.74119433326| 0.05966329078869776|0.16089425482742242|   0.195027604288457|0.49935307435233167|0.44051528831406966|  0.326297393317916|           0.0|   0.195025352958681|0.5652833371543806|105.1519836832906|53.318821226613366|157.9996698449866|               0.0|               0.0|             0.0|               0.0|               0.0|             0.0|44.478512313301444|15735.414790849341|104.86818042875194|151502.1211764954|12936.922410064642|18149.688629107215|  5.55710595297572| 11.06185208411411| 581558.6324184422| 218640.4971963268|739572.4648024874| 560269.2655712687|5.414778219542698E8|3.820029100888986E8|1.5221170704608278E9|1.81701332075954E7|0.4809509065347373|      3096074.866298894|          551771.0775994167|\n",
            "|    min|              0.0|               0.0|                 0.0|               1.0|               0.0|               0.0|              0.0|               0.0|               0.0|               0.0|              0.0|              0.0|               0.0|              0.0|               0.0|               0.0|                0.0|                 0.0|               0.0|                 0.0|              0.0|                0.0|                 0.0|              0.0|                0.0|               0.0|              0.0|               0.0|               0.0|                0.0|          0.0|          0.0|          0.0|               0.0|              0.0|               0.0|               0.0|               0.0|               0.0|               0.0|               0.0|               0.0|                 0.0|                0.0|                 0.0|                0.0|                0.0|                0.0|           0.0|                 0.0|               0.0|              0.0|               0.0|              0.0|               0.0|               0.0|             0.0|               0.0|               0.0|             0.0|               1.0|               0.0|               0.0|              0.0|               0.0|               0.0|               0.0|               0.0|               0.0|               0.0|              0.0|               0.0|                0.0|                0.0|                 0.0|               0.0|                 0|                    0.0|                        0.0|\n",
            "|    max|          65533.0|              17.0|         1.1999999E8|            5115.0|            9198.0|         8591554.0|       1.339773E7|           64440.0|            1460.0|         11217.025|        15760.838|           1460.0|             732.0|        1459.2405|         944.69464|       1.1999072E8|         4.24474E11|          9.79781E11|       1.1999072E8|         1.1999985E8|      1.1999072E8|         4.24474E11|          9.79781E11|      1.1999072E8|        1.1999972E8|       1.1940033E8|      8.4473144E7|       1.1956401E8|       1.1940033E8|                1.0|          0.0|          0.0|          0.0|          157688.0|         183972.0|         4000000.0|         2000000.0|             788.0|           64440.0|         2521.1157|          8810.769|        7.762964E7|                 1.0|                1.0|                 1.0|                1.0|                1.0|                1.0|           0.0|                 1.0|              80.0|        2522.1365|         11217.025|        1459.2405|               0.0|               0.0|             0.0|               0.0|               0.0|             0.0|            5115.0|         8591554.0|            9198.0|       1.339773E7|           65535.0|           65535.0|            1031.0|              48.0|       1.1024012E8|        5.723446E7|      1.1024012E8|       1.1024012E8|          3.3945E11|         2.43268E11|          9.79781E11|         1.2603E10|                 1|           4.45249984E8|                  4000000.0|\n",
            "+-------+-----------------+------------------+--------------------+------------------+------------------+------------------+-----------------+------------------+------------------+------------------+-----------------+-----------------+------------------+-----------------+------------------+------------------+-------------------+--------------------+------------------+--------------------+-----------------+-------------------+--------------------+-----------------+-------------------+------------------+-----------------+------------------+------------------+-------------------+-------------+-------------+-------------+------------------+-----------------+------------------+------------------+------------------+------------------+------------------+------------------+------------------+--------------------+-------------------+--------------------+-------------------+-------------------+-------------------+--------------+--------------------+------------------+-----------------+------------------+-----------------+------------------+------------------+----------------+------------------+------------------+----------------+------------------+------------------+------------------+-----------------+------------------+------------------+------------------+------------------+------------------+------------------+-----------------+------------------+-------------------+-------------------+--------------------+------------------+------------------+-----------------------+---------------------------+\n",
            "\n"
          ]
        }
      ],
      "source": [
        "# Summary statistics\n",
        "df.describe().show()"
      ]
    },
    {
      "cell_type": "code",
      "execution_count": 100,
      "metadata": {},
      "outputs": [
        {
          "name": "stdout",
          "output_type": "stream",
          "text": [
            "+--------------------+------------+\n",
            "|            features|Label_binary|\n",
            "+--------------------+------------+\n",
            "|(78,[2,3,15,16,17...|           0|\n",
            "|(78,[2,3,15,16,17...|           0|\n",
            "|(78,[2,3,15,16,17...|           0|\n",
            "|(78,[0,1,2,3,4,5,...|           0|\n",
            "|(78,[0,1,2,3,4,5,...|           0|\n",
            "+--------------------+------------+\n",
            "only showing top 5 rows\n",
            "\n"
          ]
        }
      ],
      "source": [
        "# Now proceed with your VectorAssembler and the rest of the pipeline\n",
        "from pyspark.ml.feature import VectorAssembler\n",
        "\n",
        "# Assuming 'feature_columns' is updated to exclude 'Flow_Byts_s' and includes 'Flow_Byts_s_imputed'\n",
        "feature_columns = [column for column in df.columns if column not in ['Label_binary']]  # Assuming you've already removed 'Flow_Byts_s'\n",
        "\n",
        "vectorAssembler = VectorAssembler(inputCols=feature_columns, outputCol=\"features\")\n",
        "\n",
        "data = vectorAssembler.transform(df)\n",
        "\n",
        "data = data.select('features', 'Label_binary')\n",
        "data.show(5)\n"
      ]
    },
    {
      "cell_type": "code",
      "execution_count": 101,
      "metadata": {},
      "outputs": [
        {
          "name": "stdout",
          "output_type": "stream",
          "text": [
            "+--------+--------+-------------+------------+------------+---------------+---------------+---------------+---------------+----------------+---------------+---------------+---------------+----------------+---------------+-------------+------------+------------+------------+-----------+------------+-----------+-----------+-----------+-----------+------------+-----------+-----------+-----------+-------------+-------------+-------------+-------------+--------------+--------------+--------------+--------------+-----------+-----------+------------+-----------+-----------+------------+------------+------------+------------+------------+------------+--------------+------------+-----------------+------------+----------------+----------------+------------------+------------------+----------------+------------------+------------------+----------------+----------------+----------------+----------------+----------------+-----------------+-----------------+-----------------+----------------+-----------+----------+----------+----------+---------+--------+--------+--------+------------+-----------------------+---------------------------+\n",
            "|Dst_Port|Protocol|Flow_Duration|Tot_Fwd_Pkts|Tot_Bwd_Pkts|TotLen_Fwd_Pkts|TotLen_Bwd_Pkts|Fwd_Pkt_Len_Max|Fwd_Pkt_Len_Min|Fwd_Pkt_Len_Mean|Fwd_Pkt_Len_Std|Bwd_Pkt_Len_Max|Bwd_Pkt_Len_Min|Bwd_Pkt_Len_Mean|Bwd_Pkt_Len_Std|Flow_IAT_Mean|Flow_IAT_Std|Flow_IAT_Max|Flow_IAT_Min|Fwd_IAT_Tot|Fwd_IAT_Mean|Fwd_IAT_Std|Fwd_IAT_Max|Fwd_IAT_Min|Bwd_IAT_Tot|Bwd_IAT_Mean|Bwd_IAT_Std|Bwd_IAT_Max|Bwd_IAT_Min|Fwd_PSH_Flags|Bwd_PSH_Flags|Fwd_URG_Flags|Bwd_URG_Flags|Fwd_Header_Len|Bwd_Header_Len|Fwd_Pkts_per_s|Bwd_Pkts_per_s|Pkt_Len_Min|Pkt_Len_Max|Pkt_Len_Mean|Pkt_Len_Std|Pkt_Len_Var|FIN_Flag_Cnt|SYN_Flag_Cnt|RST_Flag_Cnt|PSH_Flag_Cnt|ACK_Flag_Cnt|URG_Flag_Cnt|CWE_Flag_Count|ECE_Flag_Cnt|Down_per_Up_Ratio|Pkt_Size_Avg|Fwd_Seg_Size_Avg|Bwd_Seg_Size_Avg|Fwd_Byts_per_b_Avg|Fwd_Pkts_per_b_Avg|Fwd_Blk_Rate_Avg|Bwd_Byts_per_b_Avg|Bwd_Pkts_per_b_Avg|Bwd_Blk_Rate_Avg|Subflow_Fwd_Pkts|Subflow_Fwd_Byts|Subflow_Bwd_Pkts|Subflow_Bwd_Byts|Init_Fwd_Win_Byts|Init_Bwd_Win_Byts|Fwd_Act_Data_Pkts|Fwd_Seg_Size_Min|Active_Mean|Active_Std|Active_Max|Active_Min|Idle_Mean|Idle_Std|Idle_Max|Idle_Min|Label_binary|Flow_Byts_s_nan_imputed|Flow_Pkts_per_s_nan_imputed|\n",
            "+--------+--------+-------------+------------+------------+---------------+---------------+---------------+---------------+----------------+---------------+---------------+---------------+----------------+---------------+-------------+------------+------------+------------+-----------+------------+-----------+-----------+-----------+-----------+------------+-----------+-----------+-----------+-------------+-------------+-------------+-------------+--------------+--------------+--------------+--------------+-----------+-----------+------------+-----------+-----------+------------+------------+------------+------------+------------+------------+--------------+------------+-----------------+------------+----------------+----------------+------------------+------------------+----------------+------------------+------------------+----------------+----------------+----------------+----------------+----------------+-----------------+-----------------+-----------------+----------------+-----------+----------+----------+----------+---------+--------+--------+--------+------------+-----------------------+---------------------------+\n",
            "|       0|       0|            0|           0|           0|              0|              0|              0|              0|               0|              0|              0|              0|               0|              0|            0|           0|           0|           0|          0|           0|          0|          0|          0|          0|           0|          0|          0|          0|            0|            0|            0|            0|             0|             0|             0|             0|          0|          0|           0|          0|          0|           0|           0|           0|           0|           0|           0|             0|           0|                0|           0|               0|               0|                 0|                 0|               0|                 0|                 0|               0|               0|               0|               0|               0|                0|                0|                0|               0|          0|         0|         0|         0|        0|       0|       0|       0|           0|                      0|                          0|\n",
            "+--------+--------+-------------+------------+------------+---------------+---------------+---------------+---------------+----------------+---------------+---------------+---------------+----------------+---------------+-------------+------------+------------+------------+-----------+------------+-----------+-----------+-----------+-----------+------------+-----------+-----------+-----------+-------------+-------------+-------------+-------------+--------------+--------------+--------------+--------------+-----------+-----------+------------+-----------+-----------+------------+------------+------------+------------+------------+------------+--------------+------------+-----------------+------------+----------------+----------------+------------------+------------------+----------------+------------------+------------------+----------------+----------------+----------------+----------------+----------------+-----------------+-----------------+-----------------+----------------+-----------+----------+----------+----------+---------+--------+--------+--------+------------+-----------------------+---------------------------+\n",
            "\n"
          ]
        }
      ],
      "source": [
        "# Check again for any null or NaN values that might have been introduced\n",
        "df.select([count(when(isnan(c) | col(c).isNull(), c)).alias(c) for c in df.columns]).show()"
      ]
    },
    {
      "cell_type": "code",
      "execution_count": 102,
      "metadata": {},
      "outputs": [
        {
          "name": "stdout",
          "output_type": "stream",
          "text": [
            "+-------------------------------------------------------------------------------------------------------------------------------------------------------------------------------------------------------------------------------------------------------------------------------------------------------------------------------------------------------------------------------------------------------------------------------------------------------------------------------------------------------------------------------------------------------------------------------------------------------------------------------------------------------------------------------------+------------+\n",
            "|features                                                                                                                                                                                                                                                                                                                                                                                                                                                                                                                                                                                                                                                                             |Label_binary|\n",
            "+-------------------------------------------------------------------------------------------------------------------------------------------------------------------------------------------------------------------------------------------------------------------------------------------------------------------------------------------------------------------------------------------------------------------------------------------------------------------------------------------------------------------------------------------------------------------------------------------------------------------------------------------------------------------------------------+------------+\n",
            "|(78,[2,3,15,16,17,18,19,20,21,22,23,35,60,72,73,74,75,77],[1.1264172E8,3.0,5.632086E7,139.30003356933594,5.632096E7,5.632076E7,1.1264172E8,5.632086E7,139.30003356933594,5.632096E7,5.632076E7,0.026633115485310555,3.0,5.632086E7,139.30003356933594,5.632096E7,5.632076E7,0.026633115485310555])                                                                                                                                                                                                                                                                                                                                                                                   |0           |\n",
            "|(78,[2,3,15,16,17,18,19,20,21,22,23,35,60,72,73,74,75,77],[1.12641464E8,3.0,5.6320732E7,114.55130004882812,5.6320816E7,5.6320652E7,1.12641464E8,5.6320732E7,114.55130004882812,5.6320816E7,5.6320652E7,0.02663317508995533,3.0,5.6320732E7,114.55130004882812,5.6320816E7,5.6320652E7,0.02663317508995533])                                                                                                                                                                                                                                                                                                                                                                          |0           |\n",
            "|(78,[2,3,15,16,17,18,19,20,21,22,23,35,60,72,73,74,75,77],[1.12638624E8,3.0,5.6319312E7,301.9346008300781,5.6319524E7,5.6319096E7,1.12638624E8,5.6319312E7,301.9346008300781,5.6319524E7,5.6319096E7,0.026633847504854202,3.0,5.6319312E7,301.9346008300781,5.6319524E7,5.6319096E7,0.026633847504854202])                                                                                                                                                                                                                                                                                                                                                                           |0           |\n",
            "|(78,[0,1,2,3,4,5,6,7,9,10,11,13,14,15,16,17,18,19,20,21,22,23,24,25,26,27,28,33,34,35,36,38,39,40,41,45,51,52,53,60,61,62,63,64,65,66,67,76,77],[22.0,6.0,6453966.0,15.0,10.0,1239.0,2273.0,744.0,82.5999984741211,196.74124145507812,976.0,227.3000030517578,371.6778869628906,268915.25,247443.78125,673900.0,22.0,6453966.0,460997.5625,123109.421875,673900.0,229740.0,5637902.0,626433.5625,455082.21875,1167293.0,554.0,488.0,328.0,2.3241522312164307,1.5494349002838135,976.0,135.07691955566406,277.8347473144531,77192.15625,1.0,140.47999572753906,82.5999984741211,227.3000030517578,15.0,1239.0,10.0,2273.0,65535.0,233.0,6.0,32.0,544.1614990234375,3.873587131500244])|0           |\n",
            "|(78,[0,1,2,3,4,5,6,7,9,10,11,13,14,15,16,17,18,19,20,21,22,23,24,25,26,27,28,33,34,35,36,38,39,40,41,45,51,52,53,60,61,62,63,64,65,66,67,76,77],[22.0,6.0,8804066.0,14.0,11.0,1143.0,2209.0,744.0,81.64286041259766,203.74554443359375,976.0,200.81817626953125,362.2498779296875,366836.09375,511356.625,1928102.0,21.0,8804066.0,677235.875,532417.0,1928102.0,246924.0,7715481.0,771548.125,755543.0625,2174893.0,90.0,456.0,360.0,1.5901743173599243,1.2494226694107056,976.0,128.92308044433594,279.7630310058594,78267.3515625,1.0,134.0800018310547,81.64286041259766,200.81817626953125,14.0,1143.0,11.0,2209.0,5808.0,233.0,6.0,32.0,380.7331848144531,2.83959698677063])   |0           |\n",
            "|(78,[0,1,2,3,4,5,6,7,9,10,11,13,14,15,16,17,18,19,20,21,22,23,24,25,26,27,28,33,34,35,36,38,39,40,41,45,51,52,53,60,61,62,63,64,65,66,67,76,77],[22.0,6.0,6989341.0,16.0,12.0,1239.0,2273.0,744.0,77.4375,190.83114624023438,976.0,189.4166717529297,347.642578125,258864.484375,291724.15625,951098.0,20.0,6989341.0,465956.0625,244363.890625,951098.0,265831.0,5980598.0,543690.75,460713.53125,1254338.0,78.0,332.0,252.0,2.2892000675201416,1.716900110244751,976.0,121.10344696044922,265.70867919921875,70601.09375,1.0,125.42857360839844,77.4375,189.4166717529297,16.0,1239.0,12.0,2273.0,5808.0,234.0,7.0,20.0,502.47943115234375,4.006100177764893])                     |0           |\n",
            "|(78,[2,3,15,16,17,18,19,20,21,22,23,35,60,72,73,74,75,77],[1.1264048E8,3.0,5.632024E7,203.64675903320312,5.6320384E7,5.6320096E7,1.1264048E8,5.632024E7,203.64675903320312,5.6320384E7,5.6320096E7,0.026633409783244133,3.0,5.632024E7,203.64675903320312,5.6320384E7,5.6320096E7,0.026633409783244133])                                                                                                                                                                                                                                                                                                                                                                             |0           |\n",
            "|(78,[2,3,15,16,17,18,19,20,21,22,23,35,60,72,73,74,75,77],[1.12641248E8,3.0,5.6320624E7,62.22539520263672,5.6320664E7,5.6320576E7,1.12641248E8,5.6320624E7,62.22539520263672,5.6320664E7,5.6320576E7,0.026633229106664658,3.0,5.6320624E7,62.22539520263672,5.6320664E7,5.6320576E7,0.026633229106664658])                                                                                                                                                                                                                                                                                                                                                                           |0           |\n",
            "|(78,[0,1,2,3,4,5,6,7,9,10,11,13,14,15,16,17,18,19,20,21,22,23,24,25,26,27,28,33,34,35,36,38,39,40,41,45,51,52,53,60,61,62,63,64,65,66,67,76,77],[80.0,6.0,476513.0,5.0,3.0,211.0,463.0,211.0,42.20000076293945,94.36206817626953,463.0,154.3333282470703,267.31317138671875,68073.2890625,115865.7890625,237711.0,24.0,476513.0,119128.25,137379.96875,238470.0,108.0,238634.0,119317.0,167621.078125,237843.0,791.0,168.0,104.0,10.49289321899414,6.295735836029053,463.0,74.88888549804688,161.4058837890625,26051.861328125,1.0,84.25,42.20000076293945,154.3333282470703,5.0,211.0,3.0,463.0,14600.0,219.0,1.0,32.0,1414.4420166015625,16.78862953186035])                       |0           |\n",
            "|(78,[0,1,2,3,4,5,6,7,9,10,11,13,14,15,16,17,18,19,20,21,22,23,24,25,26,27,28,33,34,35,36,38,39,40,41,45,51,52,53,60,61,62,63,64,65,66,67,76,77],[80.0,6.0,475048.0,5.0,3.0,220.0,472.0,220.0,44.0,98.38699340820312,472.0,157.3333282470703,272.50933837890625,67864.0,115746.9296875,237494.0,15.0,475048.0,118762.0,137096.765625,237853.0,15.0,237516.0,118758.0,167472.578125,237179.0,337.0,168.0,104.0,10.525252342224121,6.315151214599609,472.0,76.88888549804688,165.06698608398438,27247.111328125,1.0,86.5,44.0,157.3333282470703,5.0,220.0,3.0,472.0,14600.0,219.0,1.0,32.0,1456.6949462890625,16.840402603149414])                                                      |0           |\n",
            "+-------------------------------------------------------------------------------------------------------------------------------------------------------------------------------------------------------------------------------------------------------------------------------------------------------------------------------------------------------------------------------------------------------------------------------------------------------------------------------------------------------------------------------------------------------------------------------------------------------------------------------------------------------------------------------------+------------+\n",
            "only showing top 10 rows\n",
            "\n"
          ]
        }
      ],
      "source": [
        "# Sparse Vectors\n",
        "data.show(10, truncate = False)"
      ]
    },
    {
      "cell_type": "code",
      "execution_count": 103,
      "metadata": {},
      "outputs": [
        {
          "name": "stdout",
          "output_type": "stream",
          "text": [
            "[0.00000000e+00 0.00000000e+00 1.12641720e+08 3.00000000e+00\n",
            " 0.00000000e+00 0.00000000e+00 0.00000000e+00 0.00000000e+00\n",
            " 0.00000000e+00 0.00000000e+00 0.00000000e+00 0.00000000e+00\n",
            " 0.00000000e+00 0.00000000e+00 0.00000000e+00 5.63208600e+07\n",
            " 1.39300034e+02 5.63209600e+07 5.63207600e+07 1.12641720e+08\n",
            " 5.63208600e+07 1.39300034e+02 5.63209600e+07 5.63207600e+07\n",
            " 0.00000000e+00 0.00000000e+00 0.00000000e+00 0.00000000e+00\n",
            " 0.00000000e+00 0.00000000e+00 0.00000000e+00 0.00000000e+00\n",
            " 0.00000000e+00 0.00000000e+00 0.00000000e+00 2.66331155e-02\n",
            " 0.00000000e+00 0.00000000e+00 0.00000000e+00 0.00000000e+00\n",
            " 0.00000000e+00 0.00000000e+00 0.00000000e+00 0.00000000e+00\n",
            " 0.00000000e+00 0.00000000e+00 0.00000000e+00 0.00000000e+00\n",
            " 0.00000000e+00 0.00000000e+00 0.00000000e+00 0.00000000e+00\n",
            " 0.00000000e+00 0.00000000e+00 0.00000000e+00 0.00000000e+00\n",
            " 0.00000000e+00 0.00000000e+00 0.00000000e+00 0.00000000e+00\n",
            " 3.00000000e+00 0.00000000e+00 0.00000000e+00 0.00000000e+00\n",
            " 0.00000000e+00 0.00000000e+00 0.00000000e+00 0.00000000e+00\n",
            " 0.00000000e+00 0.00000000e+00 0.00000000e+00 0.00000000e+00\n",
            " 5.63208600e+07 1.39300034e+02 5.63209600e+07 5.63207600e+07\n",
            " 0.00000000e+00 2.66331155e-02]\n",
            "[0.00000000e+00 0.00000000e+00 1.12641464e+08 3.00000000e+00\n",
            " 0.00000000e+00 0.00000000e+00 0.00000000e+00 0.00000000e+00\n",
            " 0.00000000e+00 0.00000000e+00 0.00000000e+00 0.00000000e+00\n",
            " 0.00000000e+00 0.00000000e+00 0.00000000e+00 5.63207320e+07\n",
            " 1.14551300e+02 5.63208160e+07 5.63206520e+07 1.12641464e+08\n",
            " 5.63207320e+07 1.14551300e+02 5.63208160e+07 5.63206520e+07\n",
            " 0.00000000e+00 0.00000000e+00 0.00000000e+00 0.00000000e+00\n",
            " 0.00000000e+00 0.00000000e+00 0.00000000e+00 0.00000000e+00\n",
            " 0.00000000e+00 0.00000000e+00 0.00000000e+00 2.66331751e-02\n",
            " 0.00000000e+00 0.00000000e+00 0.00000000e+00 0.00000000e+00\n",
            " 0.00000000e+00 0.00000000e+00 0.00000000e+00 0.00000000e+00\n",
            " 0.00000000e+00 0.00000000e+00 0.00000000e+00 0.00000000e+00\n",
            " 0.00000000e+00 0.00000000e+00 0.00000000e+00 0.00000000e+00\n",
            " 0.00000000e+00 0.00000000e+00 0.00000000e+00 0.00000000e+00\n",
            " 0.00000000e+00 0.00000000e+00 0.00000000e+00 0.00000000e+00\n",
            " 3.00000000e+00 0.00000000e+00 0.00000000e+00 0.00000000e+00\n",
            " 0.00000000e+00 0.00000000e+00 0.00000000e+00 0.00000000e+00\n",
            " 0.00000000e+00 0.00000000e+00 0.00000000e+00 0.00000000e+00\n",
            " 5.63207320e+07 1.14551300e+02 5.63208160e+07 5.63206520e+07\n",
            " 0.00000000e+00 2.66331751e-02]\n"
          ]
        }
      ],
      "source": [
        "# Extract the values from Sparse Vectors to the list format\n",
        "data_select = data.select('features').limit(2).collect()\n",
        "for val in data_select:\n",
        "    dense_vector = val[0].toArray()\n",
        "    print(dense_vector)"
      ]
    },
    {
      "cell_type": "markdown",
      "metadata": {},
      "source": [
        "### StandardScaler"
      ]
    },
    {
      "cell_type": "code",
      "execution_count": 104,
      "metadata": {},
      "outputs": [
        {
          "name": "stdout",
          "output_type": "stream",
          "text": [
            "+----------------------------------------------------------------------------------------------------------------------------------------------------------------------------------------------------------------------------------------------------------------------------------------------------------------------------------------------------------------------------------------------------------------------------+------------+\n",
            "|scaledFeatures                                                                                                                                                                                                                                                                                                                                                                                                              |Label_binary|\n",
            "+----------------------------------------------------------------------------------------------------------------------------------------------------------------------------------------------------------------------------------------------------------------------------------------------------------------------------------------------------------------------------------------------------------------------------+------------+\n",
            "|(78,[2,3,15,16,17,18,19,20,21,22,23,35,60,72,73,74,75,77],[4.25221598608025,0.06744829905434675,5.920000923893614,1.899648340410174E-7,0.03700122380781082,5.970040674556225,4.280117087551891,5.863306444695966,1.8996449181089071E-7,0.03700126313520116,5.9261921203265056,8.632359721661506E-8,0.06744829905434675,0.10401323510671122,3.646569957724111E-7,0.03700172680078321,3.099633852791842,4.826841522970523E-8])|0           |\n",
            "|(78,[2,3,15,16,17,18,19,20,21,22,23,35,60,72,73,74,75,77],[4.252206322100577,0.06744829905434675,5.919987469551506,1.5621474127016006E-7,0.0370011292040216,5.970029226479302,4.280107360161591,5.86329311920298,1.5621445984233175E-7,0.03700116853131139,5.926180756333033,8.632379040795803E-8,0.06744829905434675,0.10401299871660472,2.998702287952998E-7,0.03700163219570795,3.0996279089719057,4.826852325393339E-8])|0           |\n",
            "|(78,[2,3,15,16,17,18,19,20,21,22,23,35,60,72,73,74,75,77],[4.252099112326077,0.06744829905434675,5.919838210443745,4.117512025535692E-7,0.037000280397801684,5.9698642893710385,4.27999944692546,5.863145289515161,4.117504607654012E-7,0.03700031972418931,5.9260170306493025,8.63259698477958E-8,0.06744829905434675,0.10401037626386071,7.903986929309345E-7,0.0370007833779494,3.099542273936531,4.826974190225725E-8]) |0           |\n",
            "+----------------------------------------------------------------------------------------------------------------------------------------------------------------------------------------------------------------------------------------------------------------------------------------------------------------------------------------------------------------------------------------------------------------------------+------------+\n",
            "only showing top 3 rows\n",
            "\n"
          ]
        }
      ],
      "source": [
        "# Normalizing feature vectors\n",
        "scaler = StandardScaler(inputCol=\"features\", outputCol=\"scaledFeatures\", withStd=True, withMean=False)\n",
        "scaler_model = scaler.fit(data)\n",
        "data = scaler_model.transform(data)\n",
        "\n",
        "data = data.select(\"scaledFeatures\", \"Label_binary\")\n",
        "data.show(3, truncate = False)"
      ]
    },
    {
      "cell_type": "code",
      "execution_count": 105,
      "metadata": {},
      "outputs": [
        {
          "name": "stdout",
          "output_type": "stream",
          "text": [
            "root\n",
            " |-- scaledFeatures: vector (nullable = true)\n",
            " |-- Label_binary: integer (nullable = false)\n",
            "\n"
          ]
        }
      ],
      "source": [
        "# Split the data into training and testing sets\n",
        "train_data, test_data = data.randomSplit([0.7, 0.3], seed = 42)\n",
        "\n",
        "train_data.printSchema()"
      ]
    },
    {
      "cell_type": "code",
      "execution_count": 106,
      "metadata": {},
      "outputs": [
        {
          "name": "stdout",
          "output_type": "stream",
          "text": [
            "+-------------------------------------------------------------------------------------------------------------------------------------------------------------------------------------------------------------------------------------------------------------------------------------------------------------------------------------------------------------------------------------------------------------------------------------------------------------------------------------------------------------------------------------------------------------------------------------------------------------------------------------------------------------------------------------------------------------------------------------------------------------------------------------------------------------------------------------------------------+------------+\n",
            "|scaledFeatures                                                                                                                                                                                                                                                                                                                                                                                                                                                                                                                                                                                                                                                                                                                                                                                                                                         |Label_binary|\n",
            "+-------------------------------------------------------------------------------------------------------------------------------------------------------------------------------------------------------------------------------------------------------------------------------------------------------------------------------------------------------------------------------------------------------------------------------------------------------------------------------------------------------------------------------------------------------------------------------------------------------------------------------------------------------------------------------------------------------------------------------------------------------------------------------------------------------------------------------------------------------+------------+\n",
            "|(78,[0,1,2,3,4,5,6,7,8,9,11,12,13,15,17,18,33,34,35,36,37,38,39,40,41,50,51,52,53,60,61,62,63,67,76,77],[0.004638785395917936,3.811125426437918,2.1932703867737684E-5,0.022482766351448916,0.009535780976760685,0.01906527435008957,0.0021715867569717046,1.042856899291393,15.398208984746724,5.626530990341143,0.66618249507375,7.069455923608378,2.08228283212732,6.107009972472348E-5,3.8170001065923036E-7,6.158641381822914E-5,0.007420328633219333,0.0038023463641657404,0.00557867971959315,0.006445591696467474,15.867397115614807,0.654879068647083,3.0741032975747657,0.11348055178596353,0.0023945841226428637,1.7690243710949767,4.417415475480094,5.626530990341143,2.08228283212732,0.022482766351448916,0.01906527435008957,0.009535780976760685,0.0021715867569717046,0.7232061990314448,0.34967375523905725,0.006238711958751168])   |0           |\n",
            "|(78,[0,1,2,3,4,5,6,7,8,9,11,12,13,15,17,18,33,34,35,36,37,38,39,40,41,50,51,52,53,60,61,62,63,67,76,77],[0.004638785395917936,3.811125426437918,2.2763202120905034E-5,0.022482766351448916,0.009535780976760685,0.01906527435008957,0.0021715867569717046,1.042856899291393,15.398208984746724,5.626530990341143,0.66618249507375,7.069455923608378,2.08228283212732,6.338256477454089E-5,3.9615336734512203E-7,6.391842948776621E-5,0.007420328633219333,0.0038023463641657404,0.005375145635438894,0.0062104289574836935,15.867397115614807,0.654879068647083,3.0741032975747657,0.11348055178596353,0.0023945841226428637,1.7690243710949767,4.417415475480094,5.626530990341143,2.08228283212732,0.022482766351448916,0.01906527435008957,0.009535780976760685,0.0021715867569717046,0.7232061990314448,0.33691619067563405,0.0060110970769778095])|0           |\n",
            "+-------------------------------------------------------------------------------------------------------------------------------------------------------------------------------------------------------------------------------------------------------------------------------------------------------------------------------------------------------------------------------------------------------------------------------------------------------------------------------------------------------------------------------------------------------------------------------------------------------------------------------------------------------------------------------------------------------------------------------------------------------------------------------------------------------------------------------------------------------+------------+\n",
            "only showing top 2 rows\n",
            "\n"
          ]
        }
      ],
      "source": [
        "train_data.show(2, truncate = False)"
      ]
    },
    {
      "cell_type": "code",
      "execution_count": 107,
      "metadata": {},
      "outputs": [],
      "source": [
        "#! Double check for any Negative, Infinity or NaN values\n",
        "\n",
        "# Iterate through each column in the DataFrame\n",
        "for column in df.columns:\n",
        "    # Filter rows where the column contains problematic values\n",
        "    problematic_rows = df.filter(\n",
        "        (col(column).isNull()) |   # Check for null values\n",
        "        (isnan(col(column))) |     # Check for NaN values\n",
        "        (col(column) < 0)          # Check for negative values\n",
        "    )\n",
        "    \n",
        "    # If there are any rows containing problematic values, print the column name\n",
        "    if problematic_rows.count() > 0:\n",
        "        print(f\"Column '{column}' has {problematic_rows.count()} rows with problematic values.\")"
      ]
    },
    {
      "cell_type": "markdown",
      "metadata": {
        "id": "IRGHM3rOsKvU"
      },
      "source": [
        "---\n",
        "# **Task 2 - Model Selection and Implementation (25 marks)**\n",
        "---\n"
      ]
    },
    {
      "cell_type": "code",
      "execution_count": 108,
      "metadata": {
        "id": "6oAJuyTBsRO-"
      },
      "outputs": [],
      "source": [
        "##1st student name: Philip Acquaye-Mensah\n",
        "# add the code here\n"
      ]
    },
    {
      "cell_type": "markdown",
      "metadata": {},
      "source": [
        "#### Apply Naive Bayes model"
      ]
    },
    {
      "cell_type": "code",
      "execution_count": 109,
      "metadata": {},
      "outputs": [],
      "source": [
        "# 2nd student name: Mohamed Jareer Mohamed Zeenam\n",
        "\n",
        "from pyspark.ml.classification import NaiveBayes\n",
        "\n",
        "# Initialize Naive Bayes model\n",
        "nb = NaiveBayes(featuresCol='scaledFeatures', labelCol='Label_binary', smoothing=0.5)  \n",
        "\n",
        "# Fit the model to the training data\n",
        "nb_model = nb.fit(train_data)\n",
        "\n",
        "# Make predictions on the test data\n",
        "nb_predictions = nb_model.transform(test_data)"
      ]
    },
    {
      "cell_type": "code",
      "execution_count": 110,
      "metadata": {},
      "outputs": [
        {
          "name": "stdout",
          "output_type": "stream",
          "text": [
            "+------------+----------+\n",
            "|Label_binary|prediction|\n",
            "+------------+----------+\n",
            "|           0|       0.0|\n",
            "|           1|       1.0|\n",
            "|           1|       0.0|\n",
            "|           0|       1.0|\n",
            "+------------+----------+\n",
            "\n"
          ]
        }
      ],
      "source": [
        "# 2nd student name: Mohamed Jareer Mohamed Zeenam\n",
        "\n",
        "nb_predictions.select('Label_binary', 'prediction').distinct().show()"
      ]
    },
    {
      "cell_type": "markdown",
      "metadata": {
        "id": "jBh-tqvEHmIa"
      },
      "source": [
        "---\n",
        "# **Task 3 - Model Parameter Tuning (20 marks)**\n",
        "---\n"
      ]
    },
    {
      "cell_type": "code",
      "execution_count": 111,
      "metadata": {},
      "outputs": [],
      "source": [
        "# 2nd student name: Mohamed Jareer Mohamed Zeenam\n",
        "\n",
        "from pyspark.ml.evaluation import BinaryClassificationEvaluator\n",
        "\n",
        "# Define the evaluator for binary classification\n",
        "evaluator = BinaryClassificationEvaluator(rawPredictionCol='prediction', labelCol='Label_binary', metricName='areaUnderROC')"
      ]
    },
    {
      "cell_type": "code",
      "execution_count": 112,
      "metadata": {
        "id": "mhLRVi66Hmdo"
      },
      "outputs": [],
      "source": [
        "##1st student name: Philip Acquaye-Mensah\n",
        "# add the code here\n"
      ]
    },
    {
      "cell_type": "markdown",
      "metadata": {},
      "source": [
        "##### Grid Search results"
      ]
    },
    {
      "cell_type": "code",
      "execution_count": 113,
      "metadata": {},
      "outputs": [
        {
          "name": "stdout",
          "output_type": "stream",
          "text": [
            "Best smoothing parameter: 0.1\n",
            "Area under ROC (AUC): 94.0 %\n"
          ]
        }
      ],
      "source": [
        "# 2nd student name: Mohamed Jareer Mohamed Zeenam\n",
        "\n",
        "from pyspark.ml.tuning import ParamGridBuilder, CrossValidator\n",
        "\n",
        "# Initialize Naive Bayes model\n",
        "nb = NaiveBayes(featuresCol='scaledFeatures', labelCol='Label_binary')\n",
        "\n",
        "# Define a grid of hyperparameters to search over\n",
        "param_grid = ParamGridBuilder() \\\n",
        "              .addGrid(nb.smoothing, [0.1, 0.15, 0.2, 0.27, 0.3, 0.33, 0.4, 0.48, 0.5, 0.6, 0.7, 0.72, 0.76, 0.8, 0.9, 1]) \\\n",
        "              .build()\n",
        "\n",
        "# Define cross-validation\n",
        "crossval = CrossValidator(estimator=nb,\n",
        "                           estimatorParamMaps=param_grid,\n",
        "                           evaluator=evaluator,\n",
        "                           numFolds=5)\n",
        "\n",
        "# Fit the models and select the best one using cross-validation\n",
        "cv_model = crossval.fit(train_data)\n",
        "\n",
        "# Get the best model from cross-validation\n",
        "best_nb_model = cv_model.bestModel\n",
        "\n",
        "# Make predictions on the test data using the best model\n",
        "nb_predictions = best_nb_model.transform(test_data)\n",
        "\n",
        "# Evaluate the best model\n",
        "auc = evaluator.evaluate(nb_predictions)\n",
        "\n",
        "# Print the best hyperparameters and the evaluation metric\n",
        "print(\"Best smoothing parameter:\", best_nb_model.getOrDefault(\"smoothing\"))\n",
        "print(\"Area under ROC (AUC):\", round(auc, 2)*100, \"%\")\n"
      ]
    },
    {
      "cell_type": "markdown",
      "metadata": {},
      "source": [
        "##### Random Search results"
      ]
    },
    {
      "cell_type": "code",
      "execution_count": 114,
      "metadata": {},
      "outputs": [
        {
          "name": "stdout",
          "output_type": "stream",
          "text": [
            "Best smoothing value:  0.3\n",
            "Area under ROC curve: 94.33\n",
            "Accuracy: 94.326\n"
          ]
        }
      ],
      "source": [
        "# 2nd student name: Mohamed Jareer Mohamed Zeenam\n",
        "\n",
        "import random\n",
        "\n",
        "# Perform random search manually\n",
        "best_auc_roc = 0.0\n",
        "best_params = None\n",
        "\n",
        "for smoothing in random.sample([0.1, 0.15, 0.2, 0.27, 0.3, 0.33, 0.4, 0.48, 0.5, 0.6, 0.7, 0.72, 0.76, 0.8, 0.9, 1], 5):\n",
        "    nb = NaiveBayes(featuresCol='scaledFeatures', labelCol='Label_binary', smoothing=smoothing)\n",
        "    model = nb.fit(train_data)\n",
        "\n",
        "    # Make predictions\n",
        "    predictions_rand_search = model.transform(test_data)\n",
        "\n",
        "    # Evaluate\n",
        "    accuracy_rand_search = evaluator.evaluate(predictions_rand_search)\n",
        "\n",
        "    # Check if the current model is the best so far\n",
        "    if accuracy_rand_search > best_auc_roc:\n",
        "        best_auc_roc = accuracy_rand_search\n",
        "        best_params = smoothing\n",
        "\n",
        "\n",
        "# Print the results\n",
        "print(\"Best smoothing value: \", best_params)\n",
        "print(\"Area under ROC curve:\", round(best_auc_roc, 5) * 100)\n",
        "print(\"Accuracy:\", round(accuracy_rand_search, 5) * 100)\n",
        "\n"
      ]
    },
    {
      "cell_type": "markdown",
      "metadata": {
        "id": "Np9gJPEIHwbG"
      },
      "source": [
        "---\n",
        "# **Task 4 - Model Evaluation and Accuracy Calculation (20 marks)**\n",
        "---"
      ]
    },
    {
      "cell_type": "code",
      "execution_count": 115,
      "metadata": {
        "id": "FCVAx1VsHws-"
      },
      "outputs": [],
      "source": [
        "##1st student name: Philip Acquaye-Mensah\n",
        "# add the code here\n"
      ]
    },
    {
      "cell_type": "code",
      "execution_count": 116,
      "metadata": {},
      "outputs": [
        {
          "name": "stdout",
          "output_type": "stream",
          "text": [
            "Accuracy: 92.783\n",
            "f1_score: 90.972\n",
            "precision: 83.441\n",
            "recall: 99.996\n",
            "AUC: 94.328\n"
          ]
        }
      ],
      "source": [
        "# 2nd student name: Mohamed Jareer Mohamed Zeenam\n",
        "\n",
        "import numpy as np\n",
        "from sklearn.metrics import accuracy_score, precision_score, recall_score, roc_auc_score, f1_score\n",
        "\n",
        "# Make predicitons\n",
        "predictionAndTarget = nb_model.transform(test_data).select(\"Label_binary\", \"prediction\")\n",
        "\n",
        "predictionAndTargetNumpy = np.array((predictionAndTarget.collect()))\n",
        "\n",
        "acc = accuracy_score(predictionAndTargetNumpy[:,0], predictionAndTargetNumpy[:,1])\n",
        "f1 = f1_score(predictionAndTargetNumpy[:,0], predictionAndTargetNumpy[:,1])\n",
        "precision = precision_score(predictionAndTargetNumpy[:,0], predictionAndTargetNumpy[:,1])\n",
        "recall = recall_score(predictionAndTargetNumpy[:,0], predictionAndTargetNumpy[:,1])\n",
        "auc = roc_auc_score(predictionAndTargetNumpy[:,0], predictionAndTargetNumpy[:,1])\n",
        "\n",
        "# print the evaluation metrics\n",
        "print(\"Accuracy:\", round(acc, 5) * 100)\n",
        "print(\"f1_score:\", round(f1, 5) * 100)\n",
        "print(\"precision:\", round(precision, 5) * 100)\n",
        "print(\"recall:\", round(recall, 5) * 100)\n",
        "print(\"AUC:\", round(auc, 5) * 100)"
      ]
    },
    {
      "cell_type": "markdown",
      "metadata": {},
      "source": [
        "#### Confusion Matrix"
      ]
    },
    {
      "cell_type": "code",
      "execution_count": 117,
      "metadata": {},
      "outputs": [
        {
          "name": "stdout",
          "output_type": "stream",
          "text": [
            "+------------+----------+------+\n",
            "|Label_binary|prediction|count |\n",
            "+------------+----------+------+\n",
            "|0           |0.0       |177116|\n",
            "|1           |1.0       |114141|\n",
            "|1           |0.0       |4     |\n",
            "|0           |1.0       |22636 |\n",
            "+------------+----------+------+\n",
            "\n"
          ]
        }
      ],
      "source": [
        "# 2nd student name: Mohamed Jareer Mohamed Zeenam\n",
        "\n",
        "cm = nb_predictions.groupBy('Label_binary', 'prediction').count()\n",
        "cm.show(cm.count(), truncate=False)"
      ]
    },
    {
      "cell_type": "code",
      "execution_count": 118,
      "metadata": {},
      "outputs": [
        {
          "name": "stdout",
          "output_type": "stream",
          "text": [
            "+------------+------+------+\n",
            "|Label_binary|   0.0|   1.0|\n",
            "+------------+------+------+\n",
            "|           1|     4|114141|\n",
            "|           0|177116| 22636|\n",
            "+------------+------+------+\n",
            "\n"
          ]
        }
      ],
      "source": [
        "# 2nd student name: Mohamed Jareer Mohamed Zeenam\n",
        "\n",
        "#  Check the Missclassification rate\n",
        "confusion_matrix = cm.groupBy('Label_binary').pivot('prediction').sum('count').na.fill(0)\n",
        "confusion_matrix.show()"
      ]
    },
    {
      "cell_type": "markdown",
      "metadata": {
        "id": "dsERZv2WIB1H"
      },
      "source": [
        "---\n",
        "# **Task 5 - Results Visualization or Printing (5 marks)**\n",
        "---"
      ]
    },
    {
      "cell_type": "code",
      "execution_count": 119,
      "metadata": {
        "id": "j04CcL30ILx_"
      },
      "outputs": [],
      "source": [
        "##1st student name: Philip Acquaye-Mensah\n",
        "# add the code here\n"
      ]
    },
    {
      "cell_type": "code",
      "execution_count": 120,
      "metadata": {},
      "outputs": [
        {
          "data": {
            "image/png": "[encoded data removed]",
            "text/plain": [
              "<Figure size 1000x600 with 1 Axes>"
            ]
          },
          "metadata": {},
          "output_type": "display_data"
        }
      ],
      "source": [
        "# 2nd student name: Mohamed Jareer Mohamed Zeenam\n",
        "\n",
        "import matplotlib.pyplot as plt\n",
        "\n",
        "# Define evaluation metrics and values\n",
        "metrics = ['Accuracy', 'F1 Score', 'Precision', 'Recall', 'ROC AUC']\n",
        "values = [acc, f1, precision, recall, auc]\n",
        "\n",
        "# Define colors for the bars\n",
        "colors = ['skyblue', 'lightgreen', 'salmon', 'gold', 'lightcoral']\n",
        "\n",
        "# Create a bar plot with custom styling\n",
        "plt.figure(figsize=(10, 6))\n",
        "bars = plt.bar(metrics, values, color=colors)\n",
        "\n",
        "# Add labels and title\n",
        "plt.title('Evaluation Metrics')\n",
        "plt.xlabel('Metrics')\n",
        "plt.ylabel('Values')\n",
        "\n",
        "# Add text labels on top of the bars\n",
        "for bar, value in zip(bars, values):\n",
        "    plt.text(bar.get_x() + bar.get_width() / 2, bar.get_height(),  f'{round(value * 100, 2)}%',\n",
        "             ha='center', va='bottom')\n",
        "\n",
        "# Show plot\n",
        "plt.xticks(rotation=45)\n",
        "plt.tight_layout()\n",
        "plt.show()\n"
      ]
    },
    {
      "cell_type": "code",
      "execution_count": 121,
      "metadata": {},
      "outputs": [
        {
          "data": {
            "image/png": "[encoded data removed]",
            "text/plain": [
              "<Figure size 800x600 with 2 Axes>"
            ]
          },
          "metadata": {},
          "output_type": "display_data"
        }
      ],
      "source": [
        "# 2nd student name: Mohamed Jareer Mohamed Zeenam\n",
        "\n",
        "import seaborn as sns\n",
        "\n",
        "# Convert confusion matrix to pandas DataFrame\n",
        "confusion_matrix_pd = confusion_matrix.toPandas()\n",
        "\n",
        "# Plotting\n",
        "plt.figure(figsize=(8, 6))\n",
        "sns.heatmap(confusion_matrix_pd, annot=True, cmap='Reds', fmt='g')\n",
        "plt.title('Confusion Matrix')\n",
        "plt.xlabel('Predicted Label')\n",
        "plt.ylabel('True Label')\n",
        "plt.show()\n"
      ]
    },
    {
      "cell_type": "markdown",
      "metadata": {
        "id": "rIGDXqDdIQ4U"
      },
      "source": [
        "---\n",
        "# **Task 6 - LSEP Considerations (5 marks)**\n",
        "---"
      ]
    },
    {
      "cell_type": "markdown",
      "metadata": {
        "id": "vuCxxQnYI_FP"
      },
      "source": [
        "# Student 1: **Type the chosen issue**\n",
        "\n",
        "add contribution here ..."
      ]
    },
    {
      "cell_type": "markdown",
      "metadata": {
        "id": "AgLfrAGfJQxF"
      },
      "source": [
        "# Student 2: **Type the chosen issue**\n",
        "\n",
        "add contribution here ..."
      ]
    },
    {
      "cell_type": "markdown",
      "metadata": {
        "id": "mIM6uLApSxi2"
      },
      "source": [
        "---\n",
        "\n",
        "# **Task 7 - Convert ipynb to HTML for Turnitin submission [5 marks]**\n",
        "\n",
        "---\n",
        "\n"
      ]
    },
    {
      "cell_type": "code",
      "execution_count": null,
      "metadata": {
        "id": "ZrQu11N_DCfZ"
      },
      "outputs": [],
      "source": [
        "# install nbconvert (if facing the conversion error)\n",
        "!pip3 install nbconvert"
      ]
    },
    {
      "cell_type": "code",
      "execution_count": null,
      "metadata": {
        "id": "ReZWnCYdDH66"
      },
      "outputs": [],
      "source": [
        "# convert ipynb to html and submit this HTML file\n",
        "!jupyter nbconvert --to html Your_Group_ID_CRWK_CN7030.ipynb"
      ]
    }
  ],
  "metadata": {
    "colab": {
      "provenance": []
    },
    "kernelspec": {
      "display_name": "Python 3",
      "name": "python3"
    },
    "language_info": {
      "codemirror_mode": {
        "name": "ipython",
        "version": 3
      },
      "file_extension": ".py",
      "mimetype": "text/x-python",
      "name": "python",
      "nbconvert_exporter": "python",
      "pygments_lexer": "ipython3",
      "version": "3.11.5"
    }
  },
  "nbformat": 4,
  "nbformat_minor": 0
}
